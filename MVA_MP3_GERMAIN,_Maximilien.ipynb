{
  "nbformat": 4,
  "nbformat_minor": 0,
  "metadata": {
    "colab": {
      "name": "MVA-MP3 GERMAIN, Maximilien.ipynb",
      "version": "0.3.2",
      "provenance": [],
      "collapsed_sections": [],
      "toc_visible": true
    },
    "kernelspec": {
      "display_name": "Python 3",
      "language": "python",
      "name": "python3"
    }
  },
  "cells": [
    {
      "metadata": {
        "id": "hXhD7EeDV5vN",
        "colab_type": "text"
      },
      "cell_type": "markdown",
      "source": [
        "**You may need to install [OpenCV](https://pypi.python.org/pypi/opencv-python) and [scikit-video](http://www.scikit-video.org/stable/).**"
      ]
    },
    {
      "metadata": {
        "id": "91givkjVV5vO",
        "colab_type": "code",
        "outputId": "dcf3ff60-b1dd-4578-f6b7-0ccde718751e",
        "colab": {
          "base_uri": "https://localhost:8080/",
          "height": 153
        }
      },
      "cell_type": "code",
      "source": [
        "import keras\n",
        "import tensorflow as tf\n",
        "import numpy as np\n",
        "import io\n",
        "import base64\n",
        "from IPython.display import HTML\n",
        "!pip install sk-video\n",
        "import skvideo.io\n",
        "import cv2\n",
        "import json\n",
        "\n",
        "from keras.models import Sequential,model_from_json\n",
        "from keras.layers.core import Dense\n",
        "from keras.optimizers import sgd\n",
        "from keras.layers import Conv2D, MaxPooling2D, Activation, AveragePooling2D,Reshape,BatchNormalization"
      ],
      "execution_count": 1,
      "outputs": [
        {
          "output_type": "stream",
          "text": [
            "Using TensorFlow backend.\n"
          ],
          "name": "stderr"
        },
        {
          "output_type": "stream",
          "text": [
            "Collecting sk-video\n",
            "\u001b[?25l  Downloading https://files.pythonhosted.org/packages/dd/3f/ce848b8b2062ad1ccf1449094a740c775f6c761339f411e44f1e090f23a7/sk_video-1.1.10-py2.py3-none-any.whl (2.3MB)\n",
            "\u001b[K    100% |████████████████████████████████| 2.3MB 7.1MB/s \n",
            "\u001b[?25hRequirement already satisfied: numpy in /usr/local/lib/python3.6/dist-packages (from sk-video) (1.14.6)\n",
            "Requirement already satisfied: scipy in /usr/local/lib/python3.6/dist-packages (from sk-video) (1.1.0)\n",
            "Installing collected packages: sk-video\n",
            "Successfully installed sk-video-1.1.10\n"
          ],
          "name": "stdout"
        }
      ]
    },
    {
      "metadata": {
        "id": "NW1ShQWSV5vS",
        "colab_type": "text"
      },
      "cell_type": "markdown",
      "source": [
        "# MiniProject #3: Deep Reinforcement Learning"
      ]
    },
    {
      "metadata": {
        "id": "-9Uk9dcYV5vT",
        "colab_type": "text"
      },
      "cell_type": "markdown",
      "source": [
        "__Notations__: $E_p$ is the expectation under probability $p$. Please justify each of your answer and widely comment your code."
      ]
    },
    {
      "metadata": {
        "id": "ur8fI2lfV5vU",
        "colab_type": "text"
      },
      "cell_type": "markdown",
      "source": [
        "# Context"
      ]
    },
    {
      "metadata": {
        "id": "IJDsCnjtV5vV",
        "colab_type": "text"
      },
      "cell_type": "markdown",
      "source": [
        "In a reinforcement learning algorithm, we modelize each step $t$ as an action $a_t$ obtained from a state $s_t$, i.e. $\\{(a_{t},s_{t})_{t\\leq T}\\}$ having the Markov property. We consider a discount factor $\\gamma \\in [0,1]$ that ensures convergence. The goal is to find among all the policies $\\pi$, one that maximizes the expected reward:\n",
        "\n",
        "\\begin{equation*}\n",
        "R(\\pi)=\\sum_{t\\leq T}E_{p^{\\pi}}[\\gamma^t r(s_{t},a_{t})] \\> ,\n",
        "\\end{equation*}\n",
        "\n",
        "where: \n",
        "\\begin{equation*}p^{\\pi}(a_{0},a_{1},s_{1},...,a_{T},s_{T})=p(a_{0})\\prod_{t=1}^{T}\\pi(a_{t}|s_{t})p(s_{t+1}|s_{t},a_{t}) \\> .\n",
        "\\end{equation*}\n",
        "\n",
        "We note the $Q$-function:\n",
        "\n",
        "\\begin{equation*}Q^\\pi(s,a)=E_{p^{\\pi}}[\\sum_{t\\leq T}\\gamma^{t}r(s_{t},a_{t})|s_{0}=s,a_{0}=a] \\> .\n",
        "\\end{equation*}\n",
        "\n",
        "Thus, the optimal Q function is:\n",
        "\\begin{equation*}\n",
        "Q^*(s,a)=\\max_{\\pi}Q^\\pi(s,a) \\> .\n",
        "\\end{equation*}\n",
        "\n",
        "In this project, we will apply the deep reinforcement learning techniques to a simple game: an agent will have to learn from scratch a policy that will permit it maximizing a reward."
      ]
    },
    {
      "metadata": {
        "id": "mey3zeOnV5vW",
        "colab_type": "text"
      },
      "cell_type": "markdown",
      "source": [
        "## The environment, the agent and the game"
      ]
    },
    {
      "metadata": {
        "id": "5McvU-aUV5vX",
        "colab_type": "text"
      },
      "cell_type": "markdown",
      "source": [
        "### The environment"
      ]
    },
    {
      "metadata": {
        "id": "dJRONNtVV5vY",
        "colab_type": "text"
      },
      "cell_type": "markdown",
      "source": [
        "```Environment``` is an abstract class that represents the states, rewards, and actions to obtain the new state."
      ]
    },
    {
      "metadata": {
        "id": "tRG6sPIQV5va",
        "colab_type": "code",
        "colab": {}
      },
      "cell_type": "code",
      "source": [
        "class Environment(object):\n",
        "    def __init__(self):\n",
        "        pass\n",
        "\n",
        "    def act(self, act):\n",
        "        \"\"\"\n",
        "        One can act on the environment and obtain its reaction:\n",
        "        - the new state\n",
        "        - the reward of the new state\n",
        "        - should we continue the game?\n",
        "\n",
        "        :return: state, reward, game_over\n",
        "        \"\"\"\n",
        "        pass\n",
        "\n",
        "\n",
        "    def reset(self):\n",
        "        \"\"\"\n",
        "        Reinitialize the environment to a random state and returns\n",
        "        the original state\n",
        "\n",
        "        :return: state\n",
        "        \"\"\"\n",
        "        pass\n",
        "    \n",
        "    def draw(self):\n",
        "        \"\"\"\n",
        "        Visualize in the console or graphically the current state\n",
        "        \"\"\"\n",
        "        pass"
      ],
      "execution_count": 0,
      "outputs": []
    },
    {
      "metadata": {
        "id": "jpe6wKV3V5vd",
        "colab_type": "text"
      },
      "cell_type": "markdown",
      "source": [
        "The method ```act``` allows to act on the environment at a given state $s_t$ (stored internally), via action $a_t$. The method will return the new state $s_{t+1}$, the reward $r(s_{t},a_{t})$ and determines if $t\\leq T$ (*game_over*).\n",
        "\n",
        "The method ```reset``` simply reinitializes the environment to a random state $s_0$.\n",
        "\n",
        "The method ```draw``` displays the current state $s_t$ (this is useful to check the behavior of the Agent).\n",
        "\n",
        "We modelize $s_t$ as a tensor, while $a_t$ is an integer."
      ]
    },
    {
      "metadata": {
        "id": "GKTK2dqDV5ve",
        "colab_type": "text"
      },
      "cell_type": "markdown",
      "source": [
        "### The Agent"
      ]
    },
    {
      "metadata": {
        "id": "O-ijGOSPV5vf",
        "colab_type": "text"
      },
      "cell_type": "markdown",
      "source": [
        "The goal of the ```Agent``` is to interact with the ```Environment``` by proposing actions $a_t$ obtained from a given state $s_t$ to attempt to maximize its __reward__ $r(s_t,a_t)$. We propose the following abstract class:"
      ]
    },
    {
      "metadata": {
        "id": "fZ-Yv11uV5vh",
        "colab_type": "code",
        "colab": {}
      },
      "cell_type": "code",
      "source": [
        "class Agent(object):\n",
        "    def __init__(self, epsilon=0.1, n_action=4):\n",
        "        self.epsilon = epsilon\n",
        "        self.n_action = n_action\n",
        "    \n",
        "    def set_epsilon(self,e):\n",
        "        self.epsilon = e\n",
        "\n",
        "    def act(self,s,train=True):\n",
        "        \"\"\" This function should return the next action to do:\n",
        "        an integer between 0 and 4 (not included) with a random exploration of epsilon\"\"\"\n",
        "        if train:\n",
        "            if np.random.rand() <= self.epsilon:\n",
        "                a = np.random.randint(0, self.n_action, size=1)[0]\n",
        "            else:\n",
        "                a = self.learned_act(s)                \n",
        "        else: # in some cases, this can improve the performance.. remove it if poor performances\n",
        "            a = self.learned_act(s)\n",
        "        \n",
        "        return a\n",
        "\n",
        "    def learned_act(self,s):\n",
        "        \"\"\" Act via the policy of the agent, from a given state s\n",
        "        it proposes an action a\"\"\"\n",
        "        pass\n",
        "\n",
        "    def reinforce(self, s, n_s, a, r, game_over_):\n",
        "        \"\"\" This function is the core of the learning algorithm. \n",
        "        It takes as an input the current state s_, the next state n_s_\n",
        "        the action a_ used to move from s_ to n_s_ and the reward r_.\n",
        "        \n",
        "        Its goal is to learn a policy.\n",
        "        \"\"\"\n",
        "        pass\n",
        "\n",
        "    def save(self):\n",
        "        \"\"\" This function returns basic stats if applicable: the\n",
        "        loss and/or the model\"\"\"\n",
        "        pass\n",
        "\n",
        "    def load(self):\n",
        "        \"\"\" This function allows to restore a model\"\"\"\n",
        "        pass"
      ],
      "execution_count": 0,
      "outputs": []
    },
    {
      "metadata": {
        "id": "lAUgATaDV5vk",
        "colab_type": "text"
      },
      "cell_type": "markdown",
      "source": [
        "***\n",
        "__Question 1__:\n",
        "Explain the function act. Why is ```epsilon``` essential?"
      ]
    },
    {
      "metadata": {
        "id": "v2CylN9YV5vl",
        "colab_type": "text"
      },
      "cell_type": "markdown",
      "source": [
        "Act performs with probability (1 - $\\varepsilon$) the best policy regarding the learned value function and chooses a random move with probability $\\varepsilon$. This is necessary in order to provide exploration of the state-action space. Indeed, without exploration one wouldn't be able to learn the correct optimal value function and thus the optimal policy."
      ]
    },
    {
      "metadata": {
        "id": "iM7iTqIlV5vm",
        "colab_type": "text"
      },
      "cell_type": "markdown",
      "source": [
        "***\n",
        "### The Game"
      ]
    },
    {
      "metadata": {
        "id": "rvq64aPgV5vn",
        "colab_type": "text"
      },
      "cell_type": "markdown",
      "source": [
        "The ```Agent``` and the ```Environment``` work in an interlaced way as in the following (take some time to understand this code as it is the core of the project)\n",
        "\n",
        "```python\n",
        "\n",
        "epoch = 300\n",
        "env = Environment()\n",
        "agent = Agent()\n",
        "\n",
        "\n",
        "# Number of won games\n",
        "score = 0\n",
        "loss = 0\n",
        "\n",
        "\n",
        "for e in range(epoch):\n",
        "    # At each epoch, we restart to a fresh game and get the initial state\n",
        "    state = env.reset()\n",
        "    # This assumes that the games will end\n",
        "    game_over = False\n",
        "\n",
        "    win = 0\n",
        "    lose = 0\n",
        "    \n",
        "    while not game_over:\n",
        "        # The agent performs an action\n",
        "        action = agent.act(state)\n",
        "\n",
        "        # Apply an action to the environment, get the next state, the reward\n",
        "        # and if the games end\n",
        "        prev_state = state\n",
        "        state, reward, game_over = env.act(action)\n",
        "\n",
        "        # Update the counters\n",
        "        if reward > 0:\n",
        "            win = win + reward\n",
        "        if reward < 0:\n",
        "            lose = lose -reward\n",
        "\n",
        "        # Apply the reinforcement strategy\n",
        "        loss = agent.reinforce(prev_state, state,  action, reward, game_over)\n",
        "\n",
        "    # Save as a mp4\n",
        "    if e % 10 == 0:\n",
        "        env.draw(e)\n",
        "\n",
        "    # Update stats\n",
        "    score += win-lose\n",
        "\n",
        "    print(\"Epoch {:03d}/{:03d} | Loss {:.4f} | Win/lose count {}/{} ({})\"\n",
        "          .format(e, epoch, loss, win, lose, win-lose))\n",
        "    agent.save()\n",
        "```"
      ]
    },
    {
      "metadata": {
        "id": "YQjPdoi8V5vo",
        "colab_type": "text"
      },
      "cell_type": "markdown",
      "source": [
        "# The game, *eat cheese*"
      ]
    },
    {
      "metadata": {
        "id": "3kxlzDkhV5vp",
        "colab_type": "text"
      },
      "cell_type": "markdown",
      "source": [
        "A rat runs on an island and tries to eat as much as possible. The island is subdivided into $N\\times N$ cells, in which there are cheese (+0.5) and poisonous cells (-1). The rat has a visibility of 2 cells (thus it can see $5^2$ cells). The rat is given a time $T$ to accumulate as much food as possible. It can perform 4 actions: going up, down, left, right. \n",
        "\n",
        "The goal is to code an agent to solve this task that will learn by trial and error. We propose the following environment:"
      ]
    },
    {
      "metadata": {
        "id": "oHIau7ddV5vq",
        "colab_type": "code",
        "colab": {}
      },
      "cell_type": "code",
      "source": [
        "class Environment(object):\n",
        "    def __init__(self, grid_size=10, max_time=500, temperature=0.1):\n",
        "        grid_size = grid_size+4\n",
        "        self.grid_size = grid_size\n",
        "        self.max_time = max_time\n",
        "        self.temperature = temperature\n",
        "\n",
        "        #board on which one plays\n",
        "        self.board = np.zeros((grid_size,grid_size))\n",
        "        self.position = np.zeros((grid_size,grid_size))\n",
        "\n",
        "        # coordinate of the rat\n",
        "        self.x = 0\n",
        "        self.y = 1\n",
        "\n",
        "        # self time\n",
        "        self.t = 0\n",
        "\n",
        "        self.scale=16\n",
        "\n",
        "        self.to_draw = np.zeros((max_time+2, grid_size*self.scale, grid_size*self.scale, 3))\n",
        "\n",
        "\n",
        "    def draw(self,e):\n",
        "        skvideo.io.vwrite(str(e) + '.mp4', self.to_draw)\n",
        "\n",
        "    def get_frame(self,t):\n",
        "        b = np.zeros((self.grid_size,self.grid_size,3))+128\n",
        "        b[self.board>0,0] = 256\n",
        "        b[self.board < 0, 2] = 256\n",
        "        b[self.x,self.y,:]=256\n",
        "        b[-2:,:,:]=0\n",
        "        b[:,-2:,:]=0\n",
        "        b[:2,:,:]=0\n",
        "        b[:,:2,:]=0\n",
        "        \n",
        "        b =  cv2.resize(b, None, fx=self.scale, fy=self.scale, interpolation=cv2.INTER_NEAREST)\n",
        "\n",
        "        self.to_draw[t,:,:,:]=b\n",
        "\n",
        "\n",
        "    def act(self, action,train):\n",
        "        \"\"\"This function returns the new state, reward and decides if the\n",
        "        game ends.\"\"\"\n",
        "\n",
        "        self.get_frame(int(self.t))\n",
        "\n",
        "        self.position = np.zeros((self.grid_size, self.grid_size))\n",
        "\n",
        "        self.position[0:2,:]= -1\n",
        "        self.position[:,0:2] = -1\n",
        "        self.position[-2:, :] = -1\n",
        "        self.position[-2:, :] = -1\n",
        "\n",
        "        self.position[self.x, self.y] = 1\n",
        "        if action == 0:\n",
        "            if self.x == self.grid_size-3:\n",
        "                self.x = self.x-1\n",
        "            else:\n",
        "                self.x = self.x + 1\n",
        "        elif action == 1:\n",
        "            if self.x == 2:\n",
        "                self.x = self.x+1\n",
        "            else:\n",
        "                self.x = self.x-1\n",
        "        elif action == 2:\n",
        "            if self.y == self.grid_size - 3:\n",
        "                self.y = self.y - 1\n",
        "            else:\n",
        "                self.y = self.y + 1\n",
        "        elif action == 3:\n",
        "            if self.y == 2:\n",
        "                self.y = self.y + 1\n",
        "            else:\n",
        "                self.y = self.y - 1\n",
        "        else:\n",
        "            RuntimeError('Error: action not recognized')\n",
        "\n",
        "        self.t = self.t + 1\n",
        "        reward = self.board[self.x, self.y]\n",
        "        self.board[self.x, self.y] = 0\n",
        "        game_over = self.t > self.max_time\n",
        "        state = np.concatenate((self.board.reshape(self.grid_size, self.grid_size,1),\n",
        "                        self.position.reshape(self.grid_size, self.grid_size,1)),axis=2)\n",
        "        state = state[self.x-2:self.x+3,self.y-2:self.y+3,:]\n",
        "\n",
        "        return state, reward, game_over\n",
        "\n",
        "    def reset(self):\n",
        "        \"\"\"This function resets the game and returns the initial state\"\"\"\n",
        "\n",
        "        self.x = np.random.randint(3, self.grid_size-3, size=1)[0]\n",
        "        self.y = np.random.randint(3, self.grid_size-3, size=1)[0]\n",
        "\n",
        "\n",
        "        bonus = 0.5*np.random.binomial(1,self.temperature,size=self.grid_size**2)\n",
        "        bonus = bonus.reshape(self.grid_size,self.grid_size)\n",
        "\n",
        "        malus = -1.0*np.random.binomial(1,self.temperature,size=self.grid_size**2)\n",
        "        malus = malus.reshape(self.grid_size, self.grid_size)\n",
        "\n",
        "        self.to_draw = np.zeros((self.max_time+2, self.grid_size*self.scale, self.grid_size*self.scale, 3))\n",
        "\n",
        "\n",
        "        malus[bonus>0]=0\n",
        "\n",
        "        self.board = bonus + malus\n",
        "\n",
        "        self.position = np.zeros((self.grid_size, self.grid_size))\n",
        "        self.position[0:2,:]= -1\n",
        "        self.position[:,0:2] = -1\n",
        "        self.position[-2:, :] = -1\n",
        "        self.position[-2:, :] = -1\n",
        "        self.board[self.x,self.y] = 0\n",
        "        self.t = 0\n",
        "\n",
        "        state = np.concatenate((\n",
        "                               self.board.reshape(self.grid_size, self.grid_size,1),\n",
        "                        self.position.reshape(self.grid_size, self.grid_size,1)),axis=2)\n",
        "\n",
        "        state = state[self.x - 2:self.x + 3, self.y - 2:self.y + 3, :]\n",
        "        return state"
      ],
      "execution_count": 0,
      "outputs": []
    },
    {
      "metadata": {
        "id": "GQEmuQ7LV5vt",
        "colab_type": "text"
      },
      "cell_type": "markdown",
      "source": [
        "The following elements are important because they correspond to the hyper parameters for this project:"
      ]
    },
    {
      "metadata": {
        "id": "0v2_eF0WV5vu",
        "colab_type": "code",
        "colab": {}
      },
      "cell_type": "code",
      "source": [
        "# parameters\n",
        "size = 13\n",
        "T=200\n",
        "temperature=0.3\n",
        "epochs_train=41 # set small when debugging\n",
        "epochs_test=15 # set small when debugging\n",
        "\n",
        "# display videos\n",
        "def display_videos(name):\n",
        "    video = io.open(name, 'r+b').read()\n",
        "    encoded = base64.b64encode(video)\n",
        "    return '''<video alt=\"test\" controls>\n",
        "                <source src=\"data:video/mp4;base64,{0}\" type=\"video/mp4\" />\n",
        "             </video>'''.format(encoded.decode('ascii'))"
      ],
      "execution_count": 0,
      "outputs": []
    },
    {
      "metadata": {
        "id": "bJLIdICuV5vz",
        "colab_type": "text"
      },
      "cell_type": "markdown",
      "source": [
        "__Question 2__ Explain the use of the arrays ```position``` and ```board```."
      ]
    },
    {
      "metadata": {
        "id": "ClACboDtV5v1",
        "colab_type": "text"
      },
      "cell_type": "markdown",
      "source": [
        "Board represents the rewards of the still unvisited cases of the island. Position indicates the presence of the edges of the island."
      ]
    },
    {
      "metadata": {
        "id": "We1OExSSV5v4",
        "colab_type": "text"
      },
      "cell_type": "markdown",
      "source": [
        "## Random Agent"
      ]
    },
    {
      "metadata": {
        "id": "nUJswg-9V5v5",
        "colab_type": "text"
      },
      "cell_type": "markdown",
      "source": [
        "***\n",
        "__Question 3__ Implement a random Agent (only ```learned_act``` needs to be implemented):"
      ]
    },
    {
      "metadata": {
        "id": "siN1DcgnV5v6",
        "colab_type": "code",
        "colab": {}
      },
      "cell_type": "code",
      "source": [
        "class RandomAgent(Agent):\n",
        "    def __init__(self):\n",
        "        super(RandomAgent, self).__init__()\n",
        "        pass\n",
        "\n",
        "    def learned_act(self, s):\n",
        "        return np.random.randint(0, 4)"
      ],
      "execution_count": 0,
      "outputs": []
    },
    {
      "metadata": {
        "id": "lfhdJRBtV5v-",
        "colab_type": "text"
      },
      "cell_type": "markdown",
      "source": [
        "***\n",
        "***\n",
        "__Question 4__ Visualize the game moves. You need to fill in the following function for the evaluation:"
      ]
    },
    {
      "metadata": {
        "id": "ER6RD9gZV5v_",
        "colab_type": "code",
        "colab": {}
      },
      "cell_type": "code",
      "source": [
        "def test(agent,env,epochs,prefix=''):\n",
        "    # Number of won games\n",
        "    score = 0\n",
        "        \n",
        "    for e in range(epochs):\n",
        "        \n",
        "        state = env.reset()\n",
        "        game_over = False\n",
        "\n",
        "        win = 0\n",
        "        lose = 0\n",
        "\n",
        "        while not game_over:            \n",
        "            action = agent.act(state)\n",
        "            # Apply an action to the environment, get the next state, the reward\n",
        "            # and if the games end\n",
        "            state, reward, game_over = env.act(action,False)\n",
        "\n",
        "            # Update the counters\n",
        "            if reward > 0:\n",
        "                win = win + reward\n",
        "            if reward < 0:\n",
        "                lose = lose - reward\n",
        "        \n",
        "        # Save as a mp4\n",
        "        env.draw(prefix+str(e))\n",
        "\n",
        "        # Update stats\n",
        "        score += win-lose\n",
        "\n",
        "        print(\"Win/lose count {}/{}. Average score ({})\"\n",
        "              .format(win, lose, score/(1+e)))\n",
        "    print('Final score: '+str(score/epochs))"
      ],
      "execution_count": 0,
      "outputs": []
    },
    {
      "metadata": {
        "id": "aT0tAKw0V5wB",
        "colab_type": "code",
        "outputId": "7eadc139-c5aa-497b-fcae-4289aa478e54",
        "colab": {
          "base_uri": "https://localhost:8080/",
          "height": 443
        }
      },
      "cell_type": "code",
      "source": [
        "# Initialize the game\n",
        "env = Environment(grid_size=size, max_time=T,temperature=temperature)\n",
        "\n",
        "# Initialize the agent!\n",
        "agent = RandomAgent()\n",
        "\n",
        "test(agent,env,epochs_test,prefix='random')\n",
        "HTML(display_videos('random0.mp4'))"
      ],
      "execution_count": 8,
      "outputs": [
        {
          "output_type": "stream",
          "text": [
            "Win/lose count 6.5/17.0. Average score (-10.5)\n",
            "Win/lose count 14.0/18.0. Average score (-7.25)\n",
            "Win/lose count 7.5/16.0. Average score (-7.666666666666667)\n",
            "Win/lose count 9.0/7.0. Average score (-5.25)\n",
            "Win/lose count 7.5/12.0. Average score (-5.1)\n",
            "Win/lose count 12.0/10.0. Average score (-3.9166666666666665)\n",
            "Win/lose count 9.0/13.0. Average score (-3.9285714285714284)\n",
            "Win/lose count 8.5/8.0. Average score (-3.375)\n",
            "Win/lose count 9.0/11.0. Average score (-3.2222222222222223)\n",
            "Win/lose count 8.5/14.0. Average score (-3.45)\n",
            "Win/lose count 11.0/13.0. Average score (-3.3181818181818183)\n",
            "Win/lose count 11.0/13.0. Average score (-3.2083333333333335)\n",
            "Win/lose count 11.5/8.0. Average score (-2.6923076923076925)\n",
            "Win/lose count 13.5/12.0. Average score (-2.392857142857143)\n",
            "Win/lose count 9.0/19.0. Average score (-2.9)\n",
            "Final score: -2.9\n"
          ],
          "name": "stdout"
        },
        {
          "output_type": "execute_result",
          "data": {
            "text/html": [
              "<video alt=\"test\" controls>\n",
              "                <source src=\"data:video/mp4;base64,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\" type=\"video/mp4\" />\n",
              "             </video>"
            ],
            "text/plain": [
              "<IPython.core.display.HTML object>"
            ]
          },
          "metadata": {
            "tags": []
          },
          "execution_count": 8
        }
      ]
    },
    {
      "metadata": {
        "id": "LPZPD_o_V5wF",
        "colab_type": "text"
      },
      "cell_type": "markdown",
      "source": [
        "***\n",
        "## DQN"
      ]
    },
    {
      "metadata": {
        "id": "AGqv_sHnV5wF",
        "colab_type": "text"
      },
      "cell_type": "markdown",
      "source": [
        "Let us assume here that $T=\\infty$.\n",
        "\n",
        "***\n",
        "__Question 5__ Let $\\pi$ be a policy, show that:\n",
        "\n",
        "\\begin{equation*}\n",
        "Q^{\\pi}(s,a)=E_{(s',a')\\sim p(.|s,a)}[r(s,a)+\\gamma Q^{\\pi}(s',a')]\n",
        "\\end{equation*}\n",
        "\n",
        "Then, show that for the optimal policy $\\pi^*$ (we assume its existence), the following holds: \n",
        "\n",
        "\\begin{equation*}\n",
        "Q^{*}(s,a)=E_{s'\\sim \\pi^*(.|s,a)}[r(s,a)+\\gamma\\max_{a'}Q^{*}(s',a')].\n",
        "\\end{equation*}\n",
        "Finally, deduce that a plausible objective is:\n",
        "\n",
        "\\begin{equation*}\n",
        "\\mathcal{L}(\\theta)=E_{s' \\sim \\pi^*(.|s,a)}\\Vert r+\\gamma\\max\\max_{a'}Q(s',a',\\theta)-Q(s,a,\\theta)\\Vert^{2}.\n",
        "\\end{equation*}\n",
        "\n",
        "\n"
      ]
    },
    {
      "metadata": {
        "id": "MxJJKJkmV5wI",
        "colab_type": "text"
      },
      "cell_type": "markdown",
      "source": [
        "***\n",
        "\\begin{align*}\n",
        "Q^{\\pi}(s,a) &= E_{p^{\\pi}}[\\sum_{t\\leq T}\\gamma^{t}r(s_{t},a_{t})|s_{0}=s,a_{0}=a]\n",
        "\\\\& = E_{p^{\\pi}}[r(s,a) + \\sum_{1\\leq t\\leq T}\\gamma^{t}r(s_{t},a_{t})|s_{0}=s,a_{0}=a]\n",
        "\\\\& = E_{p^{\\pi}}[r(s,a) + \\gamma\\sum_{0\\leq t\\leq T}\\gamma^{t}r(s_{t+1},a_{t+1})|s_{0}=s,a_{0}=a]\n",
        "\\\\ &= E_{(s',a')\\sim p^{\\pi}(.|s,a)}[r(s,a)+\\gamma Q^{\\pi}(s',a')]\n",
        "\\end{align*} by Markov property. The previous expression becomes with $\\pi=\\pi^*$ :\n",
        "\\begin{equation*}\n",
        "Q^{*}(s,a)=E_{(s',a')\\sim \\pi^*(.|s,a)}[r(s,a)+\\gamma Q^{*}(s',a')] = E_{s\\sim \\pi^*(.|s,a)}[r(s,a)+\\gamma \\max_{a'}Q^{*}(s',a')].\n",
        "\\end{equation*}\n",
        "Then, \n",
        "\\begin{equation*}\n",
        "\\mathcal{L}(\\theta)=E_{s' \\sim \\pi^*(.|s,a)}\\Vert r+\\gamma\\max\\max_{a'}Q(s',a',\\theta)-Q(s,a,\\theta)\\Vert^{2}.\n",
        "\\end{equation*} is supposed to be equal to zero for $Q(s,a,\\theta) = Q(s,a)$. Therefore it is a plausible objective."
      ]
    },
    {
      "metadata": {
        "id": "abgO-XXDV5wJ",
        "colab_type": "text"
      },
      "cell_type": "markdown",
      "source": [
        "***\n",
        "The DQN-learning algorithm relies on these derivations to train the parameters $\\theta$ of a Deep Neural Network:\n",
        "\n",
        "1. At the state $s_t$, select the action $a_t$ with best reward using $Q_t$ and store the results;\n",
        "\n",
        "2. Obtain the new state $s_{t+1}$ from the environment $p$;\n",
        "\n",
        "3. Store $(s_t,a_t,s_{t+1})$;\n",
        "\n",
        "4. Obtain $Q_{t+1}$ by minimizing  $\\mathcal{L}$ from a recovered batch from the previously stored results.\n",
        "\n",
        "***\n",
        "__Question 6__ Implement the class ```Memory``` that stores moves (in a replay buffer) via ```remember``` and provides a ```random_access``` to these. Specify a maximum memory size to avoid side effects. You can for example use a ```list()``` and set by default ```max_memory=100```."
      ]
    },
    {
      "metadata": {
        "id": "0uhYI2x_V5wK",
        "colab_type": "code",
        "colab": {}
      },
      "cell_type": "code",
      "source": [
        "class Memory(object):\n",
        "    def __init__(self, max_memory=100):\n",
        "        self.max_memory = max_memory\n",
        "        self.memory = list()\n",
        "\n",
        "    def remember(self, m):\n",
        "        if len(self.memory) < self.max_memory:\n",
        "            self.memory.append(m)\n",
        "        # If the memory is full we ramdomly replace one element by a new one\n",
        "        else :\n",
        "            n = len(self.memory)\n",
        "            random_index = np.random.randint(0, n)\n",
        "            self.memory[random_index]=m\n",
        "\n",
        "    def random_access(self):\n",
        "        n = len(self.memory)\n",
        "        random_index = np.random.randint(0, n)\n",
        "        return self.memory[random_index]"
      ],
      "execution_count": 0,
      "outputs": []
    },
    {
      "metadata": {
        "id": "BU26bxTBV5wO",
        "colab_type": "text"
      },
      "cell_type": "markdown",
      "source": [
        "***\n",
        "The pipeline we will use for training is given below:"
      ]
    },
    {
      "metadata": {
        "id": "FGbq8DNoV5wO",
        "colab_type": "code",
        "colab": {}
      },
      "cell_type": "code",
      "source": [
        "def train(agent,env,epoch,prefix=''):\n",
        "    # Number of won games\n",
        "    score = 0\n",
        "    loss = 0\n",
        "\n",
        "    for e in range(epoch):\n",
        "        # At each epoch, we restart to a fresh game and get the initial state\n",
        "        state = env.reset()\n",
        "        # This assumes that the games will terminate\n",
        "        game_over = False\n",
        "\n",
        "        win = 0\n",
        "        lose = 0\n",
        "\n",
        "        while not game_over:\n",
        "            # The agent performs an action\n",
        "            action = agent.act(state)\n",
        "            \n",
        "            # Apply an action to the environment, get the next state, the reward\n",
        "            # and if the games end\n",
        "            prev_state = state\n",
        "            state, reward, game_over = env.act(action,train)\n",
        "\n",
        "            # Update the counters\n",
        "            if reward > 0:\n",
        "                win = win + reward\n",
        "            if reward < 0:\n",
        "                lose = lose -reward\n",
        "\n",
        "            # Apply the reinforcement strategy\n",
        "            loss = agent.reinforce(prev_state, state,  action, reward, game_over)\n",
        "\n",
        "        # Save as a mp4\n",
        "        if e % 10 == 0:\n",
        "            env.draw(prefix+str(e))\n",
        "\n",
        "        # Update stats\n",
        "        score += win-lose\n",
        "\n",
        "        print(\"Epoch {:03d}/{:03d} | Loss {:.4f} | Win/lose count {}/{} ({})\"\n",
        "              .format(e, epoch, loss, win, lose, win-lose))\n",
        "        agent.save(name_weights=prefix+'model.h5',name_model=prefix+'model.json')"
      ],
      "execution_count": 0,
      "outputs": []
    },
    {
      "metadata": {
        "id": "8Cb2YeBJV5wR",
        "colab_type": "text"
      },
      "cell_type": "markdown",
      "source": [
        "***\n",
        "__Question 7__ Implement the DQN training algorithm using a cascade of fully connected layers. You can use different learning rate, batch size or memory size parameters. In particular, the loss might oscillate while the player will start to win the games. You have to find a good criterium."
      ]
    },
    {
      "metadata": {
        "id": "dOWVCjfbV5wS",
        "colab_type": "code",
        "colab": {}
      },
      "cell_type": "code",
      "source": [
        "class DQN(Agent):\n",
        "    def __init__(self, grid_size,  epsilon = 0.1, memory_size=100, batch_size = 16,n_state=2):\n",
        "        super(DQN, self).__init__(epsilon = epsilon)\n",
        "\n",
        "        # Discount for Q learning\n",
        "        self.discount = 0.99\n",
        "        \n",
        "        self.grid_size = grid_size\n",
        "        \n",
        "        # number of state\n",
        "        self.n_state = n_state\n",
        "\n",
        "        # Memory\n",
        "        self.memory = Memory(memory_size)\n",
        "        \n",
        "        # Batch size when learning\n",
        "        self.batch_size = batch_size\n",
        "\n",
        "    def learned_act(self, s):\n",
        "        \n",
        "        Q = self.model.predict(np.reshape([s], (1,5,5,self.n_state)))\n",
        "        best_action = np.argmax(Q)\n",
        "        return best_action\n",
        "    \n",
        "    def reinforce(self, s_, n_s_, a_, r_, game_over_):\n",
        "        # Two steps: first memorize the states, second learn from the pool\n",
        "                \n",
        "        self.memory.remember([s_, n_s_, a_, r_, game_over_])\n",
        "        \n",
        "        input_states = np.zeros((self.batch_size, 5,5,self.n_state))\n",
        "        target_q = np.zeros((self.batch_size, 4))\n",
        "                \n",
        "        for i in range(self.batch_size):\n",
        "            # Memory access\n",
        "            [s_, n_s_, a_, r_, game_over_] = self.memory.random_access()\n",
        "            input_states[i,:,:,:] = s_            \n",
        "            Qprime = self.model.predict(np.array([n_s_]))\n",
        "            Q = self.model.predict(np.array([s_]))\n",
        "            \n",
        "            aprime = np.argmax(Qprime)\n",
        "            \n",
        "            # Construction of the loss\n",
        "            if game_over_: ########################################## TODO\n",
        "                target_q[i,:] = Q\n",
        "                target_q[i,a_] = r_ + self.discount*Qprime[0][aprime] - Q[0][a_]\n",
        "            else:\n",
        "                target_q[i,:] = Q\n",
        "                target_q[i,a_] = r_ + self.discount*Qprime[0][aprime] - Q[0][a_]\n",
        "        \n",
        "        # HINT: Clip the target to avoid exploiding gradients.. -- clipping is a bit tighter\n",
        "        target_q = np.clip(target_q, -3, 3)\n",
        "\n",
        "        l = self.model.train_on_batch(input_states, target_q)\n",
        "\n",
        "        return l\n",
        "\n",
        "    def save(self,name_weights='model.h5',name_model='model.json'):\n",
        "        self.model.save_weights(name_weights, overwrite=True)\n",
        "        with open(name_model, \"w\") as outfile:\n",
        "            json.dump(self.model.to_json(), outfile)\n",
        "            \n",
        "    def load(self,name_weights='model.h5',name_model='model.json'):\n",
        "        with open(name_model, \"r\") as jfile:\n",
        "            model = model_from_json(json.load(jfile))\n",
        "        model.load_weights(name_weights)\n",
        "        model.compile(\"sgd\", \"mse\")\n",
        "        self.model = model\n",
        "\n",
        "            \n",
        "class DQN_FC(DQN):\n",
        "    def __init__(self, *args, lr=0.1,**kwargs):\n",
        "        super(DQN_FC, self).__init__( *args,**kwargs)\n",
        "        \n",
        "        # NN Model        \n",
        "        model = Sequential()\n",
        "        model.add(keras.layers.Flatten())\n",
        "        model.add(Dense(150))\n",
        "        model.add(Activation('relu'))\n",
        "        model.add(Dense(150))\n",
        "        model.add(Activation('relu'))\n",
        "        model.add(Dense(4))\n",
        "        \n",
        "        model.compile(sgd(lr=lr, decay=1e-4, momentum=0.0), \"mse\")\n",
        "        self.model = model\n",
        "        "
      ],
      "execution_count": 0,
      "outputs": []
    },
    {
      "metadata": {
        "id": "abiNksevV5wU",
        "colab_type": "code",
        "outputId": "ee7ae9d6-3925-48db-f37e-d8eb30262d64",
        "colab": {
          "base_uri": "https://localhost:8080/",
          "height": 990
        }
      },
      "cell_type": "code",
      "source": [
        "env = Environment(grid_size=size, max_time=T, temperature=0.3)\n",
        "agent = DQN_FC(size, lr=1e-1, epsilon = 0.1, memory_size=1000, batch_size = 30)\n",
        "train(agent, env, epochs_train, prefix='fc_train')\n",
        "HTML(display_videos('fc_train40.mp4'))"
      ],
      "execution_count": 12,
      "outputs": [
        {
          "output_type": "stream",
          "text": [
            "WARNING:tensorflow:From /usr/local/lib/python3.6/dist-packages/tensorflow/python/framework/op_def_library.py:263: colocate_with (from tensorflow.python.framework.ops) is deprecated and will be removed in a future version.\n",
            "Instructions for updating:\n",
            "Colocations handled automatically by placer.\n",
            "WARNING:tensorflow:From /usr/local/lib/python3.6/dist-packages/tensorflow/python/ops/math_ops.py:3066: to_int32 (from tensorflow.python.ops.math_ops) is deprecated and will be removed in a future version.\n",
            "Instructions for updating:\n",
            "Use tf.cast instead.\n",
            "Epoch 000/041 | Loss 0.0028 | Win/lose count 6.5/11.0 (-4.5)\n",
            "Epoch 001/041 | Loss 0.0033 | Win/lose count 5.5/5.0 (0.5)\n",
            "Epoch 002/041 | Loss 0.0032 | Win/lose count 2.5/4.0 (-1.5)\n",
            "Epoch 003/041 | Loss 0.0015 | Win/lose count 5.0/3.0 (2.0)\n",
            "Epoch 004/041 | Loss 0.0030 | Win/lose count 8.0/6.0 (2.0)\n",
            "Epoch 005/041 | Loss 0.0025 | Win/lose count 4.5/2.0 (2.5)\n",
            "Epoch 006/041 | Loss 0.0018 | Win/lose count 2.0/2.0 (0.0)\n",
            "Epoch 007/041 | Loss 0.0016 | Win/lose count 4.0/0 (4.0)\n",
            "Epoch 008/041 | Loss 0.0014 | Win/lose count 4.0/1.0 (3.0)\n",
            "Epoch 009/041 | Loss 0.0014 | Win/lose count 12.0/5.0 (7.0)\n",
            "Epoch 010/041 | Loss 0.0021 | Win/lose count 10.5/7.0 (3.5)\n",
            "Epoch 011/041 | Loss 0.0018 | Win/lose count 3.0/6.0 (-3.0)\n",
            "Epoch 012/041 | Loss 0.0015 | Win/lose count 4.0/3.0 (1.0)\n",
            "Epoch 013/041 | Loss 0.0033 | Win/lose count 7.0/5.0 (2.0)\n",
            "Epoch 014/041 | Loss 0.0089 | Win/lose count 10.0/7.0 (3.0)\n",
            "Epoch 015/041 | Loss 0.0027 | Win/lose count 7.5/2.0 (5.5)\n",
            "Epoch 016/041 | Loss 0.0012 | Win/lose count 8.0/4.0 (4.0)\n",
            "Epoch 017/041 | Loss 0.0013 | Win/lose count 7.0/6.0 (1.0)\n",
            "Epoch 018/041 | Loss 0.0027 | Win/lose count 8.5/3.0 (5.5)\n",
            "Epoch 019/041 | Loss 0.0045 | Win/lose count 7.5/5.0 (2.5)\n",
            "Epoch 020/041 | Loss 0.0011 | Win/lose count 10.0/2.0 (8.0)\n",
            "Epoch 021/041 | Loss 0.0048 | Win/lose count 8.5/2.0 (6.5)\n",
            "Epoch 022/041 | Loss 0.0018 | Win/lose count 7.5/3.0 (4.5)\n",
            "Epoch 023/041 | Loss 0.0031 | Win/lose count 13.0/3.0 (10.0)\n",
            "Epoch 024/041 | Loss 0.0090 | Win/lose count 6.0/4.0 (2.0)\n",
            "Epoch 025/041 | Loss 0.0023 | Win/lose count 12.0/2.0 (10.0)\n",
            "Epoch 026/041 | Loss 0.0060 | Win/lose count 12.5/3.0 (9.5)\n",
            "Epoch 027/041 | Loss 0.0045 | Win/lose count 4.5/1.0 (3.5)\n",
            "Epoch 028/041 | Loss 0.0012 | Win/lose count 5.5/2.0 (3.5)\n",
            "Epoch 029/041 | Loss 0.0009 | Win/lose count 3.5/2.0 (1.5)\n",
            "Epoch 030/041 | Loss 0.0018 | Win/lose count 3.5/1.0 (2.5)\n",
            "Epoch 031/041 | Loss 0.0025 | Win/lose count 18.5/5.0 (13.5)\n",
            "Epoch 032/041 | Loss 0.0048 | Win/lose count 10.0/2.0 (8.0)\n",
            "Epoch 033/041 | Loss 0.0022 | Win/lose count 6.0/2.0 (4.0)\n",
            "Epoch 034/041 | Loss 0.0039 | Win/lose count 7.5/5.0 (2.5)\n",
            "Epoch 035/041 | Loss 0.0016 | Win/lose count 2.5/1.0 (1.5)\n",
            "Epoch 036/041 | Loss 0.0005 | Win/lose count 18.0/3.0 (15.0)\n",
            "Epoch 037/041 | Loss 0.0022 | Win/lose count 9.0/1.0 (8.0)\n",
            "Epoch 038/041 | Loss 0.0037 | Win/lose count 11.5/0 (11.5)\n",
            "Epoch 039/041 | Loss 0.0029 | Win/lose count 10.5/5.0 (5.5)\n",
            "Epoch 040/041 | Loss 0.0091 | Win/lose count 17.5/5.0 (12.5)\n"
          ],
          "name": "stdout"
        },
        {
          "output_type": "execute_result",
          "data": {
            "text/html": [
              "<video alt=\"test\" controls>\n",
              "                <source src=\"data:video/mp4;base64,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\" type=\"video/mp4\" />\n",
              "             </video>"
            ],
            "text/plain": [
              "<IPython.core.display.HTML object>"
            ]
          },
          "metadata": {
            "tags": []
          },
          "execution_count": 12
        }
      ]
    },
    {
      "metadata": {
        "id": "loMCD8jOV5wX",
        "colab_type": "text"
      },
      "cell_type": "markdown",
      "source": [
        "***\n",
        "***\n",
        "__Question 8__ Implement the DQN training algorithm using a CNN (for example, 2 convolutional layers and one final fully connected layer)."
      ]
    },
    {
      "metadata": {
        "id": "egDaKqNtV5wX",
        "colab_type": "code",
        "colab": {}
      },
      "cell_type": "code",
      "source": [
        "class DQN_CNN(DQN):\n",
        "    def __init__(self, *args,lr=0.1,**kwargs):\n",
        "        super(DQN_CNN, self).__init__(*args,**kwargs)\n",
        "        \n",
        "        # CNN model\n",
        "        model = Sequential()\n",
        "        model.add(Conv2D(100, (2,2)))\n",
        "        model.add(MaxPooling2D(pool_size=(2, 2)))\n",
        "        model.add(Conv2D(50, (1,1)))\n",
        "        model.add(keras.layers.Flatten())\n",
        "        model.add(Dense(4))\n",
        "        \n",
        "        model.compile(sgd(lr=lr, decay=1e-4, momentum=0.0), \"mse\")\n",
        "        self.model = model"
      ],
      "execution_count": 0,
      "outputs": []
    },
    {
      "metadata": {
        "id": "krrR28uzV5wb",
        "colab_type": "code",
        "outputId": "f2fcdd76-3fb1-4493-c2e3-e1be99a169cf",
        "colab": {
          "base_uri": "https://localhost:8080/",
          "height": 990
        }
      },
      "cell_type": "code",
      "source": [
        "env = Environment(grid_size=size, max_time=T, temperature=0.3)\n",
        "agent = DQN_CNN(size, lr=.1, epsilon = 0.1, memory_size=1000, batch_size = 30) \n",
        "train(agent,env,epochs_train,prefix='cnn_train')\n",
        "HTML(display_videos('cnn_train40.mp4'))"
      ],
      "execution_count": 14,
      "outputs": [
        {
          "output_type": "stream",
          "text": [
            "Epoch 000/041 | Loss 0.0018 | Win/lose count 2.0/4.0 (-2.0)\n",
            "Epoch 001/041 | Loss 0.0014 | Win/lose count 2.5/2.0 (0.5)\n",
            "Epoch 002/041 | Loss 0.0020 | Win/lose count 3.0/4.0 (-1.0)\n",
            "Epoch 003/041 | Loss 0.0015 | Win/lose count 5.5/5.0 (0.5)\n",
            "Epoch 004/041 | Loss 0.0012 | Win/lose count 2.0/3.0 (-1.0)\n",
            "Epoch 005/041 | Loss 0.0013 | Win/lose count 7.5/12.0 (-4.5)\n",
            "Epoch 006/041 | Loss 0.0121 | Win/lose count 6.0/3.0 (3.0)\n",
            "Epoch 007/041 | Loss 0.0124 | Win/lose count 4.0/5.0 (-1.0)\n",
            "Epoch 008/041 | Loss 0.0030 | Win/lose count 5.0/3.0 (2.0)\n",
            "Epoch 009/041 | Loss 0.0017 | Win/lose count 8.5/3.0 (5.5)\n",
            "Epoch 010/041 | Loss 0.0065 | Win/lose count 2.0/0 (2.0)\n",
            "Epoch 011/041 | Loss 0.0038 | Win/lose count 7.0/1.0 (6.0)\n",
            "Epoch 012/041 | Loss 0.0013 | Win/lose count 5.0/1.0 (4.0)\n",
            "Epoch 013/041 | Loss 0.0041 | Win/lose count 5.5/1.0 (4.5)\n",
            "Epoch 014/041 | Loss 0.0010 | Win/lose count 4.0/6.0 (-2.0)\n",
            "Epoch 015/041 | Loss 0.0045 | Win/lose count 9.5/4.0 (5.5)\n",
            "Epoch 016/041 | Loss 0.0043 | Win/lose count 9.0/0 (9.0)\n",
            "Epoch 017/041 | Loss 0.0050 | Win/lose count 10.0/7.0 (3.0)\n",
            "Epoch 018/041 | Loss 0.0028 | Win/lose count 3.0/2.0 (1.0)\n",
            "Epoch 019/041 | Loss 0.0037 | Win/lose count 6.0/1.0 (5.0)\n",
            "Epoch 020/041 | Loss 0.0039 | Win/lose count 11.0/3.0 (8.0)\n",
            "Epoch 021/041 | Loss 0.0018 | Win/lose count 14.5/1.0 (13.5)\n",
            "Epoch 022/041 | Loss 0.0073 | Win/lose count 7.5/4.0 (3.5)\n",
            "Epoch 023/041 | Loss 0.0035 | Win/lose count 3.0/0 (3.0)\n",
            "Epoch 024/041 | Loss 0.0014 | Win/lose count 3.5/3.0 (0.5)\n",
            "Epoch 025/041 | Loss 0.0033 | Win/lose count 4.5/2.0 (2.5)\n",
            "Epoch 026/041 | Loss 0.0015 | Win/lose count 3.5/3.0 (0.5)\n",
            "Epoch 027/041 | Loss 0.0024 | Win/lose count 8.0/2.0 (6.0)\n",
            "Epoch 028/041 | Loss 0.0036 | Win/lose count 3.5/3.0 (0.5)\n",
            "Epoch 029/041 | Loss 0.0029 | Win/lose count 7.5/4.0 (3.5)\n",
            "Epoch 030/041 | Loss 0.0023 | Win/lose count 6.5/4.0 (2.5)\n",
            "Epoch 031/041 | Loss 0.0019 | Win/lose count 10.0/4.0 (6.0)\n",
            "Epoch 032/041 | Loss 0.0049 | Win/lose count 16.0/6.0 (10.0)\n",
            "Epoch 033/041 | Loss 0.0036 | Win/lose count 6.0/1.0 (5.0)\n",
            "Epoch 034/041 | Loss 0.0036 | Win/lose count 3.5/2.0 (1.5)\n",
            "Epoch 035/041 | Loss 0.0029 | Win/lose count 5.0/1.0 (4.0)\n",
            "Epoch 036/041 | Loss 0.0008 | Win/lose count 5.0/1.0 (4.0)\n",
            "Epoch 037/041 | Loss 0.0022 | Win/lose count 3.5/1.0 (2.5)\n",
            "Epoch 038/041 | Loss 0.0021 | Win/lose count 10.5/3.0 (7.5)\n",
            "Epoch 039/041 | Loss 0.0044 | Win/lose count 10.0/0 (10.0)\n",
            "Epoch 040/041 | Loss 0.0015 | Win/lose count 5.0/1.0 (4.0)\n"
          ],
          "name": "stdout"
        },
        {
          "output_type": "execute_result",
          "data": {
            "text/html": [
              "<video alt=\"test\" controls>\n",
              "                <source src=\"data:video/mp4;base64,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\" type=\"video/mp4\" />\n",
              "             </video>"
            ],
            "text/plain": [
              "<IPython.core.display.HTML object>"
            ]
          },
          "metadata": {
            "tags": []
          },
          "execution_count": 14
        }
      ]
    },
    {
      "metadata": {
        "id": "_R9Ft9-1V5wg",
        "colab_type": "text"
      },
      "cell_type": "markdown",
      "source": [
        "***\n",
        "***\n",
        "__Question 9__ Test both algorithms and compare their performances. Which issue(s) do you observe? Observe also different behaviors by changing the temperature."
      ]
    },
    {
      "metadata": {
        "id": "aE5fMmvvV5wi",
        "colab_type": "code",
        "outputId": "9ae5ffc7-3176-4e73-e5c8-9f0bdb309851",
        "colab": {
          "base_uri": "https://localhost:8080/",
          "height": 595
        }
      },
      "cell_type": "code",
      "source": [
        "env = Environment(grid_size=size, max_time=T,temperature=0.3)\n",
        "agent_cnn = DQN_CNN(size, lr=.1, epsilon = 0.1, memory_size=2000, batch_size = 32)\n",
        "agent_cnn.load(name_weights='cnn_trainmodel.h5',name_model='cnn_trainmodel.json')\n",
        "\n",
        "agent_fc = DQN_FC(size, lr=.1, epsilon = 0.1, memory_size=2000, batch_size = 32)\n",
        "agent_fc.load(name_weights='fc_trainmodel.h5',name_model='fc_trainmodel.json')\n",
        "print('Test of the CNN')\n",
        "test(agent_cnn,env,epochs_test,prefix='cnn_test')\n",
        "print('Test of the FC')\n",
        "test(agent_fc,env,epochs_test,prefix='fc_test')"
      ],
      "execution_count": 15,
      "outputs": [
        {
          "output_type": "stream",
          "text": [
            "Test of the CNN\n",
            "Win/lose count 8.0/1.0. Average score (7.0)\n",
            "Win/lose count 15.5/3.0. Average score (9.75)\n",
            "Win/lose count 2.5/2.0. Average score (6.666666666666667)\n",
            "Win/lose count 16.0/7.0. Average score (7.25)\n",
            "Win/lose count 11.0/0. Average score (8.0)\n",
            "Win/lose count 7.5/0. Average score (7.916666666666667)\n",
            "Win/lose count 17.0/5.0. Average score (8.5)\n",
            "Win/lose count 15.0/1.0. Average score (9.1875)\n",
            "Win/lose count 17.5/0. Average score (10.11111111111111)\n",
            "Win/lose count 21.5/4.0. Average score (10.85)\n",
            "Win/lose count 14.0/1.0. Average score (11.045454545454545)\n",
            "Win/lose count 13.5/7.0. Average score (10.666666666666666)\n",
            "Win/lose count 14.5/2.0. Average score (10.807692307692308)\n",
            "Win/lose count 7.5/3.0. Average score (10.357142857142858)\n",
            "Win/lose count 8.5/2.0. Average score (10.1)\n",
            "Final score: 10.1\n",
            "Test of the FC\n",
            "Win/lose count 12.5/3.0. Average score (9.5)\n",
            "Win/lose count 9.0/4.0. Average score (7.25)\n",
            "Win/lose count 15.5/2.0. Average score (9.333333333333334)\n",
            "Win/lose count 22.0/3.0. Average score (11.75)\n",
            "Win/lose count 6.0/2.0. Average score (10.2)\n",
            "Win/lose count 8.5/2.0. Average score (9.583333333333334)\n",
            "Win/lose count 11.5/3.0. Average score (9.428571428571429)\n",
            "Win/lose count 9.0/5.0. Average score (8.75)\n",
            "Win/lose count 16.0/0. Average score (9.555555555555555)\n",
            "Win/lose count 26.5/6.0. Average score (10.65)\n",
            "Win/lose count 12.5/3.0. Average score (10.545454545454545)\n",
            "Win/lose count 6.0/2.0. Average score (10.0)\n",
            "Win/lose count 13.5/2.0. Average score (10.115384615384615)\n",
            "Win/lose count 7.0/1.0. Average score (9.821428571428571)\n",
            "Win/lose count 10.0/2.0. Average score (9.7)\n",
            "Final score: 9.7\n"
          ],
          "name": "stdout"
        }
      ]
    },
    {
      "metadata": {
        "id": "RwIjHtRMV5wl",
        "colab_type": "code",
        "outputId": "0fdf3dca-a07f-4f95-a079-7553f290bc3b",
        "colab": {
          "base_uri": "https://localhost:8080/",
          "height": 293
        }
      },
      "cell_type": "code",
      "source": [
        "HTML(display_videos('cnn_test10.mp4'))"
      ],
      "execution_count": 16,
      "outputs": [
        {
          "output_type": "execute_result",
          "data": {
            "text/html": [
              "<video alt=\"test\" controls>\n",
              "                <source src=\"data:video/mp4;base64,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\" type=\"video/mp4\" />\n",
              "             </video>"
            ],
            "text/plain": [
              "<IPython.core.display.HTML object>"
            ]
          },
          "metadata": {
            "tags": []
          },
          "execution_count": 16
        }
      ]
    },
    {
      "metadata": {
        "id": "5fjL-d6-V5wp",
        "colab_type": "code",
        "outputId": "3512dd44-15dd-4db9-c156-3a63503970ef",
        "colab": {
          "base_uri": "https://localhost:8080/",
          "height": 293
        }
      },
      "cell_type": "code",
      "source": [
        "HTML(display_videos('fc_test10.mp4'))"
      ],
      "execution_count": 17,
      "outputs": [
        {
          "output_type": "execute_result",
          "data": {
            "text/html": [
              "<video alt=\"test\" controls>\n",
              "                <source src=\"data:video/mp4;base64,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\" type=\"video/mp4\" />\n",
              "             </video>"
            ],
            "text/plain": [
              "<IPython.core.display.HTML object>"
            ]
          },
          "metadata": {
            "tags": []
          },
          "execution_count": 17
        }
      ]
    },
    {
      "metadata": {
        "id": "mO6sMQAXV5ws",
        "colab_type": "text"
      },
      "cell_type": "markdown",
      "source": [
        ""
      ]
    },
    {
      "metadata": {
        "id": "Vw0tj_oMV5wt",
        "colab_type": "text"
      },
      "cell_type": "markdown",
      "source": [
        "***\n",
        "\n",
        "The algorithm tends to not explore the map which can be an issue. We propose two ideas in order to encourage exploration:\n",
        "1. Incorporating a decreasing $\\epsilon$-greedy exploration. You can use the method ```set_epsilon```\n",
        "2. Append via the environment a new state that describes if a cell has been visited or not\n",
        "\n",
        "***\n",
        "__Question 10__ Design a new ```train_explore``` function and environment class ```EnvironmentExploring``` to tackle the issue of exploration.\n",
        "\n"
      ]
    },
    {
      "metadata": {
        "id": "8Zac8RDxV5wv",
        "colab_type": "code",
        "colab": {}
      },
      "cell_type": "code",
      "source": [
        "def train_explore(agent,env,epoch,prefix=''):\n",
        "    # Number of won games\n",
        "    score = 0\n",
        "    loss = 0\n",
        "\n",
        "    for e in range(epoch):\n",
        "        # At each epoch, we restart to a fresh game and get the initial state\n",
        "        state = env.reset()\n",
        "        # This assumes that the games will terminate\n",
        "        game_over = False\n",
        "\n",
        "        win = 0\n",
        "        lose = 0\n",
        "\n",
        "        while not game_over:\n",
        "            # The agent performs an action\n",
        "            action = agent.act(state)\n",
        "\n",
        "            # Apply an action to the environment, get the next state, the reward\n",
        "            # and if the games end\n",
        "            prev_state = state\n",
        "            state, reward, game_over = env.act(action, train=True)\n",
        "\n",
        "            # Update the counters\n",
        "            if reward > 0:\n",
        "                win = win + reward\n",
        "            if reward < 0:\n",
        "                lose = lose -reward\n",
        "\n",
        "            # Apply the reinforcement strategy            \n",
        "            loss = agent.reinforce(prev_state, state,  action, reward, game_over)\n",
        "\n",
        "        # Save as a mp4\n",
        "        if e % 10 == 0:\n",
        "            env.draw(prefix+str(e))\n",
        "\n",
        "        # Update stats\n",
        "        score += win-lose\n",
        "\n",
        "        print(\"Epoch {:03d}/{:03d} | Loss {:.4f} | Win/lose count {}/{} ({})\"\n",
        "              .format(e, epoch, loss, win, lose, win-lose))\n",
        "        agent.save(name_weights=prefix+'model.h5',name_model=prefix+'model.json')\n",
        "        \n",
        "        # Decrease of epsilon\n",
        "        agent.set_epsilon(agent.epsilon*0.99)\n",
        "        \n",
        "class EnvironmentExploring(object):\n",
        "    def __init__(self, grid_size=10, max_time=500, temperature=0.1):\n",
        "        grid_size = grid_size+4\n",
        "        self.grid_size = grid_size\n",
        "        self.max_time = max_time\n",
        "        self.temperature = temperature\n",
        "\n",
        "        #board on which one plays\n",
        "        self.board = np.zeros((grid_size,grid_size))\n",
        "        self.position = np.zeros((grid_size,grid_size))\n",
        "        self.malus_position = np.zeros((grid_size,grid_size))\n",
        "\n",
        "        # coordinate of the rat\n",
        "        self.x = 0\n",
        "        self.y = 1\n",
        "\n",
        "        # self time\n",
        "        self.t = 0\n",
        "\n",
        "        self.scale=16\n",
        "\n",
        "        self.to_draw = np.zeros((max_time+2, grid_size*self.scale, grid_size*self.scale, 3))\n",
        "\n",
        "\n",
        "    def draw(self,e):\n",
        "        skvideo.io.vwrite(str(e) + '.mp4', self.to_draw)\n",
        "\n",
        "    def get_frame(self,t):\n",
        "        b = np.zeros((self.grid_size,self.grid_size,3))+128\n",
        "        b[self.board>0,0] = 256\n",
        "        b[self.board < 0, 2] = 256\n",
        "        b[self.x,self.y,:]=256\n",
        "        b[-2:,:,:]=0\n",
        "        b[:,-2:,:]=0\n",
        "        b[:2,:,:]=0\n",
        "        b[:,:2,:]=0\n",
        "        \n",
        "        b =  cv2.resize(b, None, fx=self.scale, fy=self.scale, interpolation=cv2.INTER_NEAREST)\n",
        "\n",
        "        self.to_draw[t,:,:,:]=b\n",
        "\n",
        "\n",
        "    def act(self, action, train):\n",
        "        \"\"\"This function returns the new state, reward and decides if the\n",
        "        game ends.\"\"\"\n",
        "\n",
        "        self.get_frame(int(self.t))\n",
        "\n",
        "        self.position = np.zeros((self.grid_size, self.grid_size))\n",
        "\n",
        "        self.position[0:2,:]= -1\n",
        "        self.position[:,0:2] = -1\n",
        "        self.position[-2:, :] = -1\n",
        "        self.position[-2:, :] = -1\n",
        "\n",
        "        self.position[self.x, self.y] = 1\n",
        "        if action == 0:\n",
        "            if self.x == self.grid_size-3:\n",
        "                self.x = self.x-1\n",
        "            else:\n",
        "                self.x = self.x + 1\n",
        "        elif action == 1:\n",
        "            if self.x == 2:\n",
        "                self.x = self.x+1\n",
        "            else:\n",
        "                self.x = self.x-1\n",
        "        elif action == 2:\n",
        "            if self.y == self.grid_size - 3:\n",
        "                self.y = self.y - 1\n",
        "            else:\n",
        "                self.y = self.y + 1\n",
        "        elif action == 3:\n",
        "            if self.y == 2:\n",
        "                self.y = self.y + 1\n",
        "            else:\n",
        "                self.y = self.y - 1\n",
        "        else:\n",
        "            RuntimeError('Error: action not recognized')\n",
        "\n",
        "        self.t = self.t + 1\n",
        "        reward = self.board[self.x, self.y]\n",
        "        self.board[self.x, self.y] = 0\n",
        "        game_over = self.t > self.max_time\n",
        "        state = np.concatenate((self.malus_position.reshape(self.grid_size, self.grid_size,1),\n",
        "                                self.board.reshape(self.grid_size, self.grid_size,1),\n",
        "                        self.position.reshape(self.grid_size, self.grid_size,1)),axis=2)\n",
        "        state = state[self.x-2:self.x+3,self.y-2:self.y+3,:]\n",
        "        \n",
        "        if train:\n",
        "            reward -= self.malus_position[self.x, self.y]\n",
        "        self.malus_position[self.x, self.y] = 0.1\n",
        "\n",
        "        return state, reward, game_over\n",
        "\n",
        "    def reset(self):\n",
        "        \"\"\"This function resets the game and returns the initial state\"\"\"\n",
        "\n",
        "        self.x = np.random.randint(3, self.grid_size-3, size=1)[0]\n",
        "        self.y = np.random.randint(3, self.grid_size-3, size=1)[0]\n",
        "\n",
        "\n",
        "        bonus = 0.5*np.random.binomial(1,self.temperature,size=self.grid_size**2)\n",
        "        bonus = bonus.reshape(self.grid_size,self.grid_size)\n",
        "\n",
        "        malus = -1.0*np.random.binomial(1,self.temperature,size=self.grid_size**2)\n",
        "        malus = malus.reshape(self.grid_size, self.grid_size)\n",
        "\n",
        "        self.to_draw = np.zeros((self.max_time+2, self.grid_size*self.scale, self.grid_size*self.scale, 3))\n",
        "\n",
        "\n",
        "        malus[bonus>0]=0\n",
        "\n",
        "        self.board = bonus + malus\n",
        "\n",
        "        self.position = np.zeros((self.grid_size, self.grid_size))\n",
        "        self.position[0:2,:]= -1\n",
        "        self.position[:,0:2] = -1\n",
        "        self.position[-2:, :] = -1\n",
        "        self.position[-2:, :] = -1\n",
        "        self.board[self.x,self.y] = 0\n",
        "        self.t = 0\n",
        "\n",
        "        state = np.concatenate((self.malus_position.reshape(self.grid_size, self.grid_size,1),\n",
        "                                self.board.reshape(self.grid_size, self.grid_size,1),\n",
        "                        self.position.reshape(self.grid_size, self.grid_size,1)),axis=2)\n",
        "       \n",
        "        state = state[self.x - 2:self.x + 3, self.y - 2:self.y + 3, :]\n",
        "        \n",
        "        return state"
      ],
      "execution_count": 0,
      "outputs": []
    },
    {
      "metadata": {
        "id": "Nq3c30a6V5wx",
        "colab_type": "code",
        "outputId": "c0791993-f01e-4296-af16-70d1000eac7b",
        "colab": {
          "base_uri": "https://localhost:8080/",
          "height": 868
        }
      },
      "cell_type": "code",
      "source": [
        "# Training\n",
        "env = EnvironmentExploring(grid_size=size, max_time=T, temperature=0.3)\n",
        "agent = DQN_CNN(size, lr=.1, epsilon = 0.1, memory_size=2000, batch_size = 32,n_state=3)\n",
        "train_explore(agent, env, epochs_train, prefix='cnn_train_explore')\n",
        "HTML(display_videos('cnn_train_explore40.mp4'))"
      ],
      "execution_count": 19,
      "outputs": [
        {
          "output_type": "stream",
          "text": [
            "Epoch 000/041 | Loss 0.0005 | Win/lose count 3.0/19.400000000000006 (-16.400000000000006)\n",
            "Epoch 001/041 | Loss 0.0008 | Win/lose count 1.3/21.600000000000044 (-20.300000000000043)\n",
            "Epoch 002/041 | Loss 0.0005 | Win/lose count 2.3/21.80000000000004 (-19.50000000000004)\n",
            "Epoch 003/041 | Loss 0.0024 | Win/lose count 3.4999999999999996/20.000000000000018 (-16.500000000000018)\n",
            "Epoch 004/041 | Loss 0.0032 | Win/lose count 2.9999999999999996/20.400000000000023 (-17.400000000000023)\n",
            "Epoch 005/041 | Loss 0.0019 | Win/lose count 2.4/20.100000000000012 (-17.700000000000014)\n",
            "Epoch 006/041 | Loss 0.0035 | Win/lose count 4.6/20.300000000000026 (-15.700000000000026)\n",
            "Epoch 007/041 | Loss 0.0045 | Win/lose count 5.0/23.40000000000006 (-18.40000000000006)\n",
            "Epoch 008/041 | Loss 0.0034 | Win/lose count 5.9/22.200000000000056 (-16.300000000000054)\n",
            "Epoch 009/041 | Loss 0.0034 | Win/lose count 4.8/19.800000000000015 (-15.000000000000014)\n",
            "Epoch 010/041 | Loss 0.0025 | Win/lose count 4.9/20.400000000000023 (-15.500000000000023)\n",
            "Epoch 011/041 | Loss 0.0023 | Win/lose count 4.8/21.700000000000014 (-16.900000000000013)\n",
            "Epoch 012/041 | Loss 0.0034 | Win/lose count 4.5/19.900000000000016 (-15.400000000000016)\n",
            "Epoch 013/041 | Loss 0.0049 | Win/lose count 6.600000000000001/21.200000000000042 (-14.60000000000004)\n",
            "Epoch 014/041 | Loss 0.0032 | Win/lose count 6.6/17.69999999999998 (-11.099999999999982)\n",
            "Epoch 015/041 | Loss 0.0011 | Win/lose count 7.800000000000002/23.800000000000068 (-16.000000000000068)\n",
            "Epoch 016/041 | Loss 0.0063 | Win/lose count 12.100000000000005/20.100000000000026 (-8.000000000000021)\n",
            "Epoch 017/041 | Loss 0.0031 | Win/lose count 12.100000000000005/25.00000000000009 (-12.900000000000084)\n",
            "Epoch 018/041 | Loss 0.0056 | Win/lose count 10.100000000000003/19.50000000000001 (-9.400000000000007)\n",
            "Epoch 019/041 | Loss 0.0041 | Win/lose count 9.200000000000003/20.800000000000036 (-11.600000000000033)\n",
            "Epoch 020/041 | Loss 0.0031 | Win/lose count 10.800000000000004/17.399999999999977 (-6.599999999999973)\n",
            "Epoch 021/041 | Loss 0.0049 | Win/lose count 10.800000000000004/22.399999999999995 (-11.59999999999999)\n",
            "Epoch 022/041 | Loss 0.0044 | Win/lose count 12.000000000000005/23.100000000000055 (-11.10000000000005)\n",
            "Epoch 023/041 | Loss 0.0024 | Win/lose count 2.4/23.40000000000005 (-21.00000000000005)\n",
            "Epoch 024/041 | Loss 0.0039 | Win/lose count 9.700000000000003/20.60000000000003 (-10.900000000000027)\n",
            "Epoch 025/041 | Loss 0.0071 | Win/lose count 3.1999999999999997/20.30000000000002 (-17.10000000000002)\n",
            "Epoch 026/041 | Loss 0.0070 | Win/lose count 9.200000000000003/20.80000000000001 (-11.600000000000009)\n",
            "Epoch 027/041 | Loss 0.0069 | Win/lose count 8.000000000000002/20.000000000000014 (-12.000000000000012)\n",
            "Epoch 028/041 | Loss 0.0067 | Win/lose count 11.600000000000005/27.200000000000063 (-15.600000000000058)\n",
            "Epoch 029/041 | Loss 0.0074 | Win/lose count 7.600000000000002/19.200000000000006 (-11.600000000000005)\n",
            "Epoch 030/041 | Loss 0.0017 | Win/lose count 5.6000000000000005/19.700000000000014 (-14.100000000000012)\n",
            "Epoch 031/041 | Loss 0.0077 | Win/lose count 6.000000000000001/20.600000000000012 (-14.600000000000012)\n",
            "Epoch 032/041 | Loss 0.0079 | Win/lose count 4.8/20.900000000000016 (-16.100000000000016)\n",
            "Epoch 033/041 | Loss 0.0056 | Win/lose count 12.400000000000006/19.000000000000004 (-6.599999999999998)\n",
            "Epoch 034/041 | Loss 0.0049 | Win/lose count 12.100000000000005/18.099999999999987 (-5.999999999999982)\n",
            "Epoch 035/041 | Loss 0.0011 | Win/lose count 13.200000000000006/19.800000000000004 (-6.599999999999998)\n",
            "Epoch 036/041 | Loss 0.0024 | Win/lose count 8.800000000000002/21.900000000000052 (-13.10000000000005)\n",
            "Epoch 037/041 | Loss 0.0030 | Win/lose count 2.0/20.60000000000001 (-18.60000000000001)\n",
            "Epoch 038/041 | Loss 0.0018 | Win/lose count 8.000000000000002/19.1 (-11.1)\n",
            "Epoch 039/041 | Loss 0.0026 | Win/lose count 14.000000000000007/20.60000000000002 (-6.600000000000012)\n",
            "Epoch 040/041 | Loss 0.0057 | Win/lose count 12.800000000000006/19.900000000000006 (-7.1)\n"
          ],
          "name": "stdout"
        },
        {
          "output_type": "execute_result",
          "data": {
            "text/html": [
              "<video alt=\"test\" controls>\n",
              "                <source src=\"data:video/mp4;base64,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\" type=\"video/mp4\" />\n",
              "             </video>"
            ],
            "text/plain": [
              "<IPython.core.display.HTML object>"
            ]
          },
          "metadata": {
            "tags": []
          },
          "execution_count": 19
        }
      ]
    },
    {
      "metadata": {
        "id": "IS1kZaq2V5w0",
        "colab_type": "code",
        "outputId": "8b6c81eb-de7e-4c13-de68-0e6d03d5c483",
        "colab": {
          "base_uri": "https://localhost:8080/",
          "height": 443
        }
      },
      "cell_type": "code",
      "source": [
        "# Evaluation\n",
        "test(agent,env,epochs_test,prefix='cnn_test_explore')\n",
        "HTML(display_videos('cnn_test_explore10.mp4'))"
      ],
      "execution_count": 20,
      "outputs": [
        {
          "output_type": "stream",
          "text": [
            "Win/lose count 13.0/1.0. Average score (12.0)\n",
            "Win/lose count 14.5/2.0. Average score (12.25)\n",
            "Win/lose count 4.5/1.0. Average score (9.333333333333334)\n",
            "Win/lose count 10.5/3.0. Average score (8.875)\n",
            "Win/lose count 15.0/1.0. Average score (9.9)\n",
            "Win/lose count 12.5/2.0. Average score (10.0)\n",
            "Win/lose count 12.0/3.0. Average score (9.857142857142858)\n",
            "Win/lose count 11.0/6.0. Average score (9.25)\n",
            "Win/lose count 16.0/5.0. Average score (9.444444444444445)\n",
            "Win/lose count 3.0/1.0. Average score (8.7)\n",
            "Win/lose count 21.0/2.0. Average score (9.636363636363637)\n",
            "Win/lose count 14.0/4.0. Average score (9.666666666666666)\n",
            "Win/lose count 11.5/4.0. Average score (9.5)\n",
            "Win/lose count 11.5/1.0. Average score (9.571428571428571)\n",
            "Win/lose count 14.0/3.0. Average score (9.666666666666666)\n",
            "Final score: 9.666666666666666\n"
          ],
          "name": "stdout"
        },
        {
          "output_type": "execute_result",
          "data": {
            "text/html": [
              "<video alt=\"test\" controls>\n",
              "                <source src=\"data:video/mp4;base64,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\" type=\"video/mp4\" />\n",
              "             </video>"
            ],
            "text/plain": [
              "<IPython.core.display.HTML object>"
            ]
          },
          "metadata": {
            "tags": []
          },
          "execution_count": 20
        }
      ]
    },
    {
      "metadata": {
        "id": "8lnjzGOVV5w3",
        "colab_type": "text"
      },
      "cell_type": "markdown",
      "source": [
        "***\n",
        "***\n",
        "__BONUS question__ Use the expert DQN from the previous question to generate some winning games. Train a model that mimicks its behavior. Compare the performances."
      ]
    },
    {
      "metadata": {
        "id": "uJJcmQHZV5w3",
        "colab_type": "text"
      },
      "cell_type": "markdown",
      "source": [
        ""
      ]
    },
    {
      "metadata": {
        "id": "P32ByaBFV5w4",
        "colab_type": "text"
      },
      "cell_type": "markdown",
      "source": [
        "***"
      ]
    }
  ]
}