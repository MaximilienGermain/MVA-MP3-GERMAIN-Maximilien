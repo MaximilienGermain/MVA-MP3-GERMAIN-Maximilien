{
  "nbformat": 4,
  "nbformat_minor": 0,
  "metadata": {
    "colab": {
      "name": "MVA-MP3 GERMAIN, Maximilien.ipynb",
      "version": "0.3.2",
      "provenance": [],
      "collapsed_sections": [],
      "toc_visible": true
    },
    "kernelspec": {
      "display_name": "Python 3",
      "language": "python",
      "name": "python3"
    }
  },
  "cells": [
    {
      "metadata": {
        "id": "hXhD7EeDV5vN",
        "colab_type": "text"
      },
      "cell_type": "markdown",
      "source": [
        "**You may need to install [OpenCV](https://pypi.python.org/pypi/opencv-python) and [scikit-video](http://www.scikit-video.org/stable/).**"
      ]
    },
    {
      "metadata": {
        "id": "91givkjVV5vO",
        "colab_type": "code",
        "outputId": "0ffa0e1b-4c98-4535-c84a-ef44f02719dd",
        "colab": {
          "base_uri": "https://localhost:8080/",
          "height": 153
        }
      },
      "cell_type": "code",
      "source": [
        "import keras\n",
        "import tensorflow as tf\n",
        "import numpy as np\n",
        "import io\n",
        "import base64\n",
        "from IPython.display import HTML\n",
        "!pip install sk-video\n",
        "import skvideo.io\n",
        "import cv2\n",
        "import json\n",
        "\n",
        "from keras.models import Sequential,model_from_json\n",
        "from keras.layers.core import Dense\n",
        "from keras.optimizers import sgd\n",
        "from keras.layers import Conv2D, MaxPooling2D, Activation, AveragePooling2D,Reshape,BatchNormalization"
      ],
      "execution_count": 1,
      "outputs": [
        {
          "output_type": "stream",
          "text": [
            "Using TensorFlow backend.\n"
          ],
          "name": "stderr"
        },
        {
          "output_type": "stream",
          "text": [
            "Collecting sk-video\n",
            "\u001b[?25l  Downloading https://files.pythonhosted.org/packages/dd/3f/ce848b8b2062ad1ccf1449094a740c775f6c761339f411e44f1e090f23a7/sk_video-1.1.10-py2.py3-none-any.whl (2.3MB)\n",
            "\u001b[K    100% |████████████████████████████████| 2.3MB 7.4MB/s \n",
            "\u001b[?25hRequirement already satisfied: scipy in /usr/local/lib/python3.6/dist-packages (from sk-video) (1.1.0)\n",
            "Requirement already satisfied: numpy in /usr/local/lib/python3.6/dist-packages (from sk-video) (1.14.6)\n",
            "Installing collected packages: sk-video\n",
            "Successfully installed sk-video-1.1.10\n"
          ],
          "name": "stdout"
        }
      ]
    },
    {
      "metadata": {
        "id": "NW1ShQWSV5vS",
        "colab_type": "text"
      },
      "cell_type": "markdown",
      "source": [
        "# MiniProject #3: Deep Reinforcement Learning"
      ]
    },
    {
      "metadata": {
        "id": "-9Uk9dcYV5vT",
        "colab_type": "text"
      },
      "cell_type": "markdown",
      "source": [
        "__Notations__: $E_p$ is the expectation under probability $p$. Please justify each of your answer and widely comment your code."
      ]
    },
    {
      "metadata": {
        "id": "ur8fI2lfV5vU",
        "colab_type": "text"
      },
      "cell_type": "markdown",
      "source": [
        "# Context"
      ]
    },
    {
      "metadata": {
        "id": "IJDsCnjtV5vV",
        "colab_type": "text"
      },
      "cell_type": "markdown",
      "source": [
        "In a reinforcement learning algorithm, we modelize each step $t$ as an action $a_t$ obtained from a state $s_t$, i.e. $\\{(a_{t},s_{t})_{t\\leq T}\\}$ having the Markov property. We consider a discount factor $\\gamma \\in [0,1]$ that ensures convergence. The goal is to find among all the policies $\\pi$, one that maximizes the expected reward:\n",
        "\n",
        "\\begin{equation*}\n",
        "R(\\pi)=\\sum_{t\\leq T}E_{p^{\\pi}}[\\gamma^t r(s_{t},a_{t})] \\> ,\n",
        "\\end{equation*}\n",
        "\n",
        "where: \n",
        "\\begin{equation*}p^{\\pi}(a_{0},a_{1},s_{1},...,a_{T},s_{T})=p(a_{0})\\prod_{t=1}^{T}\\pi(a_{t}|s_{t})p(s_{t+1}|s_{t},a_{t}) \\> .\n",
        "\\end{equation*}\n",
        "\n",
        "We note the $Q$-function:\n",
        "\n",
        "\\begin{equation*}Q^\\pi(s,a)=E_{p^{\\pi}}[\\sum_{t\\leq T}\\gamma^{t}r(s_{t},a_{t})|s_{0}=s,a_{0}=a] \\> .\n",
        "\\end{equation*}\n",
        "\n",
        "Thus, the optimal Q function is:\n",
        "\\begin{equation*}\n",
        "Q^*(s,a)=\\max_{\\pi}Q^\\pi(s,a) \\> .\n",
        "\\end{equation*}\n",
        "\n",
        "In this project, we will apply the deep reinforcement learning techniques to a simple game: an agent will have to learn from scratch a policy that will permit it maximizing a reward."
      ]
    },
    {
      "metadata": {
        "id": "mey3zeOnV5vW",
        "colab_type": "text"
      },
      "cell_type": "markdown",
      "source": [
        "## The environment, the agent and the game"
      ]
    },
    {
      "metadata": {
        "id": "5McvU-aUV5vX",
        "colab_type": "text"
      },
      "cell_type": "markdown",
      "source": [
        "### The environment"
      ]
    },
    {
      "metadata": {
        "id": "dJRONNtVV5vY",
        "colab_type": "text"
      },
      "cell_type": "markdown",
      "source": [
        "```Environment``` is an abstract class that represents the states, rewards, and actions to obtain the new state."
      ]
    },
    {
      "metadata": {
        "id": "tRG6sPIQV5va",
        "colab_type": "code",
        "colab": {}
      },
      "cell_type": "code",
      "source": [
        "class Environment(object):\n",
        "    def __init__(self):\n",
        "        pass\n",
        "\n",
        "    def act(self, act):\n",
        "        \"\"\"\n",
        "        One can act on the environment and obtain its reaction:\n",
        "        - the new state\n",
        "        - the reward of the new state\n",
        "        - should we continue the game?\n",
        "\n",
        "        :return: state, reward, game_over\n",
        "        \"\"\"\n",
        "        pass\n",
        "\n",
        "\n",
        "    def reset(self):\n",
        "        \"\"\"\n",
        "        Reinitialize the environment to a random state and returns\n",
        "        the original state\n",
        "\n",
        "        :return: state\n",
        "        \"\"\"\n",
        "        pass\n",
        "    \n",
        "    def draw(self):\n",
        "        \"\"\"\n",
        "        Visualize in the console or graphically the current state\n",
        "        \"\"\"\n",
        "        pass"
      ],
      "execution_count": 0,
      "outputs": []
    },
    {
      "metadata": {
        "id": "jpe6wKV3V5vd",
        "colab_type": "text"
      },
      "cell_type": "markdown",
      "source": [
        "The method ```act``` allows to act on the environment at a given state $s_t$ (stored internally), via action $a_t$. The method will return the new state $s_{t+1}$, the reward $r(s_{t},a_{t})$ and determines if $t\\leq T$ (*game_over*).\n",
        "\n",
        "The method ```reset``` simply reinitializes the environment to a random state $s_0$.\n",
        "\n",
        "The method ```draw``` displays the current state $s_t$ (this is useful to check the behavior of the Agent).\n",
        "\n",
        "We modelize $s_t$ as a tensor, while $a_t$ is an integer."
      ]
    },
    {
      "metadata": {
        "id": "GKTK2dqDV5ve",
        "colab_type": "text"
      },
      "cell_type": "markdown",
      "source": [
        "### The Agent"
      ]
    },
    {
      "metadata": {
        "id": "O-ijGOSPV5vf",
        "colab_type": "text"
      },
      "cell_type": "markdown",
      "source": [
        "The goal of the ```Agent``` is to interact with the ```Environment``` by proposing actions $a_t$ obtained from a given state $s_t$ to attempt to maximize its __reward__ $r(s_t,a_t)$. We propose the following abstract class:"
      ]
    },
    {
      "metadata": {
        "id": "fZ-Yv11uV5vh",
        "colab_type": "code",
        "colab": {}
      },
      "cell_type": "code",
      "source": [
        "class Agent(object):\n",
        "    def __init__(self, epsilon=0.1, n_action=4):\n",
        "        self.epsilon = epsilon\n",
        "        self.n_action = n_action\n",
        "    \n",
        "    def set_epsilon(self,e):\n",
        "        self.epsilon = e\n",
        "\n",
        "    def act(self,s,train=True):\n",
        "        \"\"\" This function should return the next action to do:\n",
        "        an integer between 0 and 4 (not included) with a random exploration of epsilon\"\"\"\n",
        "        if train:\n",
        "            if np.random.rand() <= self.epsilon:\n",
        "                a = np.random.randint(0, self.n_action, size=1)[0]\n",
        "            else:\n",
        "                a = self.learned_act(s)                \n",
        "        else: # in some cases, this can improve the performance.. remove it if poor performances\n",
        "            a = self.learned_act(s)\n",
        "        \n",
        "        return a\n",
        "\n",
        "    def learned_act(self,s):\n",
        "        \"\"\" Act via the policy of the agent, from a given state s\n",
        "        it proposes an action a\"\"\"\n",
        "        pass\n",
        "\n",
        "    def reinforce(self, s, n_s, a, r, game_over_):\n",
        "        \"\"\" This function is the core of the learning algorithm. \n",
        "        It takes as an input the current state s_, the next state n_s_\n",
        "        the action a_ used to move from s_ to n_s_ and the reward r_.\n",
        "        \n",
        "        Its goal is to learn a policy.\n",
        "        \"\"\"\n",
        "        pass\n",
        "\n",
        "    def save(self):\n",
        "        \"\"\" This function returns basic stats if applicable: the\n",
        "        loss and/or the model\"\"\"\n",
        "        pass\n",
        "\n",
        "    def load(self):\n",
        "        \"\"\" This function allows to restore a model\"\"\"\n",
        "        pass"
      ],
      "execution_count": 0,
      "outputs": []
    },
    {
      "metadata": {
        "id": "lAUgATaDV5vk",
        "colab_type": "text"
      },
      "cell_type": "markdown",
      "source": [
        "***\n",
        "__Question 1__:\n",
        "Explain the function act. Why is ```epsilon``` essential?"
      ]
    },
    {
      "metadata": {
        "id": "v2CylN9YV5vl",
        "colab_type": "text"
      },
      "cell_type": "markdown",
      "source": [
        "Act performs with probability (1 - $\\varepsilon$) the best policy regarding the learned value function and chooses a random move with probability $\\varepsilon$. This is necessary in order to provide exploration of the state-action space. Indeed, without exploration one wouldn't be able to learn the correct optimal value function and thus the optimal policy."
      ]
    },
    {
      "metadata": {
        "id": "iM7iTqIlV5vm",
        "colab_type": "text"
      },
      "cell_type": "markdown",
      "source": [
        "***\n",
        "### The Game"
      ]
    },
    {
      "metadata": {
        "id": "rvq64aPgV5vn",
        "colab_type": "text"
      },
      "cell_type": "markdown",
      "source": [
        "The ```Agent``` and the ```Environment``` work in an interlaced way as in the following (take some time to understand this code as it is the core of the project)\n",
        "\n",
        "```python\n",
        "\n",
        "epoch = 300\n",
        "env = Environment()\n",
        "agent = Agent()\n",
        "\n",
        "\n",
        "# Number of won games\n",
        "score = 0\n",
        "loss = 0\n",
        "\n",
        "\n",
        "for e in range(epoch):\n",
        "    # At each epoch, we restart to a fresh game and get the initial state\n",
        "    state = env.reset()\n",
        "    # This assumes that the games will end\n",
        "    game_over = False\n",
        "\n",
        "    win = 0\n",
        "    lose = 0\n",
        "    \n",
        "    while not game_over:\n",
        "        # The agent performs an action\n",
        "        action = agent.act(state)\n",
        "\n",
        "        # Apply an action to the environment, get the next state, the reward\n",
        "        # and if the games end\n",
        "        prev_state = state\n",
        "        state, reward, game_over = env.act(action)\n",
        "\n",
        "        # Update the counters\n",
        "        if reward > 0:\n",
        "            win = win + reward\n",
        "        if reward < 0:\n",
        "            lose = lose -reward\n",
        "\n",
        "        # Apply the reinforcement strategy\n",
        "        loss = agent.reinforce(prev_state, state,  action, reward, game_over)\n",
        "\n",
        "    # Save as a mp4\n",
        "    if e % 10 == 0:\n",
        "        env.draw(e)\n",
        "\n",
        "    # Update stats\n",
        "    score += win-lose\n",
        "\n",
        "    print(\"Epoch {:03d}/{:03d} | Loss {:.4f} | Win/lose count {}/{} ({})\"\n",
        "          .format(e, epoch, loss, win, lose, win-lose))\n",
        "    agent.save()\n",
        "```"
      ]
    },
    {
      "metadata": {
        "id": "YQjPdoi8V5vo",
        "colab_type": "text"
      },
      "cell_type": "markdown",
      "source": [
        "# The game, *eat cheese*"
      ]
    },
    {
      "metadata": {
        "id": "3kxlzDkhV5vp",
        "colab_type": "text"
      },
      "cell_type": "markdown",
      "source": [
        "A rat runs on an island and tries to eat as much as possible. The island is subdivided into $N\\times N$ cells, in which there are cheese (+0.5) and poisonous cells (-1). The rat has a visibility of 2 cells (thus it can see $5^2$ cells). The rat is given a time $T$ to accumulate as much food as possible. It can perform 4 actions: going up, down, left, right. \n",
        "\n",
        "The goal is to code an agent to solve this task that will learn by trial and error. We propose the following environment:"
      ]
    },
    {
      "metadata": {
        "id": "oHIau7ddV5vq",
        "colab_type": "code",
        "colab": {}
      },
      "cell_type": "code",
      "source": [
        "class Environment(object):\n",
        "    def __init__(self, grid_size=10, max_time=500, temperature=0.1):\n",
        "        grid_size = grid_size+4\n",
        "        self.grid_size = grid_size\n",
        "        self.max_time = max_time\n",
        "        self.temperature = temperature\n",
        "\n",
        "        #board on which one plays\n",
        "        self.board = np.zeros((grid_size,grid_size))\n",
        "        self.position = np.zeros((grid_size,grid_size))\n",
        "\n",
        "        # coordinate of the rat\n",
        "        self.x = 0\n",
        "        self.y = 1\n",
        "\n",
        "        # self time\n",
        "        self.t = 0\n",
        "\n",
        "        self.scale=16\n",
        "\n",
        "        self.to_draw = np.zeros((max_time+2, grid_size*self.scale, grid_size*self.scale, 3))\n",
        "\n",
        "\n",
        "    def draw(self,e):\n",
        "        skvideo.io.vwrite(str(e) + '.mp4', self.to_draw)\n",
        "\n",
        "    def get_frame(self,t):\n",
        "        b = np.zeros((self.grid_size,self.grid_size,3))+128\n",
        "        b[self.board>0,0] = 256\n",
        "        b[self.board < 0, 2] = 256\n",
        "        b[self.x,self.y,:]=256\n",
        "        b[-2:,:,:]=0\n",
        "        b[:,-2:,:]=0\n",
        "        b[:2,:,:]=0\n",
        "        b[:,:2,:]=0\n",
        "        \n",
        "        b =  cv2.resize(b, None, fx=self.scale, fy=self.scale, interpolation=cv2.INTER_NEAREST)\n",
        "\n",
        "        self.to_draw[t,:,:,:]=b\n",
        "\n",
        "\n",
        "    def act(self, action,train):\n",
        "        \"\"\"This function returns the new state, reward and decides if the\n",
        "        game ends.\"\"\"\n",
        "\n",
        "        self.get_frame(int(self.t))\n",
        "\n",
        "        self.position = np.zeros((self.grid_size, self.grid_size))\n",
        "\n",
        "        self.position[0:2,:]= -1\n",
        "        self.position[:,0:2] = -1\n",
        "        self.position[-2:, :] = -1\n",
        "        self.position[-2:, :] = -1\n",
        "\n",
        "        self.position[self.x, self.y] = 1\n",
        "        if action == 0:\n",
        "            if self.x == self.grid_size-3:\n",
        "                self.x = self.x-1\n",
        "            else:\n",
        "                self.x = self.x + 1\n",
        "        elif action == 1:\n",
        "            if self.x == 2:\n",
        "                self.x = self.x+1\n",
        "            else:\n",
        "                self.x = self.x-1\n",
        "        elif action == 2:\n",
        "            if self.y == self.grid_size - 3:\n",
        "                self.y = self.y - 1\n",
        "            else:\n",
        "                self.y = self.y + 1\n",
        "        elif action == 3:\n",
        "            if self.y == 2:\n",
        "                self.y = self.y + 1\n",
        "            else:\n",
        "                self.y = self.y - 1\n",
        "        else:\n",
        "            RuntimeError('Error: action not recognized')\n",
        "\n",
        "        self.t = self.t + 1\n",
        "        reward = self.board[self.x, self.y]\n",
        "        self.board[self.x, self.y] = 0\n",
        "        game_over = self.t > self.max_time\n",
        "        state = np.concatenate((self.board.reshape(self.grid_size, self.grid_size,1),\n",
        "                        self.position.reshape(self.grid_size, self.grid_size,1)),axis=2)\n",
        "        state = state[self.x-2:self.x+3,self.y-2:self.y+3,:]\n",
        "\n",
        "        return state, reward, game_over\n",
        "\n",
        "    def reset(self):\n",
        "        \"\"\"This function resets the game and returns the initial state\"\"\"\n",
        "\n",
        "        self.x = np.random.randint(3, self.grid_size-3, size=1)[0]\n",
        "        self.y = np.random.randint(3, self.grid_size-3, size=1)[0]\n",
        "\n",
        "\n",
        "        bonus = 0.5*np.random.binomial(1,self.temperature,size=self.grid_size**2)\n",
        "        bonus = bonus.reshape(self.grid_size,self.grid_size)\n",
        "\n",
        "        malus = -1.0*np.random.binomial(1,self.temperature,size=self.grid_size**2)\n",
        "        malus = malus.reshape(self.grid_size, self.grid_size)\n",
        "\n",
        "        self.to_draw = np.zeros((self.max_time+2, self.grid_size*self.scale, self.grid_size*self.scale, 3))\n",
        "\n",
        "\n",
        "        malus[bonus>0]=0\n",
        "\n",
        "        self.board = bonus + malus\n",
        "\n",
        "        self.position = np.zeros((self.grid_size, self.grid_size))\n",
        "        self.position[0:2,:]= -1\n",
        "        self.position[:,0:2] = -1\n",
        "        self.position[-2:, :] = -1\n",
        "        self.position[-2:, :] = -1\n",
        "        self.board[self.x,self.y] = 0\n",
        "        self.t = 0\n",
        "\n",
        "        state = np.concatenate((\n",
        "                               self.board.reshape(self.grid_size, self.grid_size,1),\n",
        "                        self.position.reshape(self.grid_size, self.grid_size,1)),axis=2)\n",
        "\n",
        "        state = state[self.x - 2:self.x + 3, self.y - 2:self.y + 3, :]\n",
        "        return state"
      ],
      "execution_count": 0,
      "outputs": []
    },
    {
      "metadata": {
        "id": "GQEmuQ7LV5vt",
        "colab_type": "text"
      },
      "cell_type": "markdown",
      "source": [
        "The following elements are important because they correspond to the hyper parameters for this project:"
      ]
    },
    {
      "metadata": {
        "id": "0v2_eF0WV5vu",
        "colab_type": "code",
        "colab": {}
      },
      "cell_type": "code",
      "source": [
        "# parameters\n",
        "size = 13\n",
        "T=200\n",
        "temperature=0.3\n",
        "epochs_train=41 # set small when debugging\n",
        "epochs_test=15 # set small when debugging\n",
        "\n",
        "# display videos\n",
        "def display_videos(name):\n",
        "    video = io.open(name, 'r+b').read()\n",
        "    encoded = base64.b64encode(video)\n",
        "    return '''<video alt=\"test\" controls>\n",
        "                <source src=\"data:video/mp4;base64,{0}\" type=\"video/mp4\" />\n",
        "             </video>'''.format(encoded.decode('ascii'))"
      ],
      "execution_count": 0,
      "outputs": []
    },
    {
      "metadata": {
        "id": "bJLIdICuV5vz",
        "colab_type": "text"
      },
      "cell_type": "markdown",
      "source": [
        "__Question 2__ Explain the use of the arrays ```position``` and ```board```."
      ]
    },
    {
      "metadata": {
        "id": "ClACboDtV5v1",
        "colab_type": "text"
      },
      "cell_type": "markdown",
      "source": [
        "Board represents the rewards of the still unvisited cases of the island. Position indicates the presence of the edges of the island."
      ]
    },
    {
      "metadata": {
        "id": "We1OExSSV5v4",
        "colab_type": "text"
      },
      "cell_type": "markdown",
      "source": [
        "## Random Agent"
      ]
    },
    {
      "metadata": {
        "id": "nUJswg-9V5v5",
        "colab_type": "text"
      },
      "cell_type": "markdown",
      "source": [
        "***\n",
        "__Question 3__ Implement a random Agent (only ```learned_act``` needs to be implemented):"
      ]
    },
    {
      "metadata": {
        "id": "siN1DcgnV5v6",
        "colab_type": "code",
        "colab": {}
      },
      "cell_type": "code",
      "source": [
        "class RandomAgent(Agent):\n",
        "    def __init__(self):\n",
        "        super(RandomAgent, self).__init__()\n",
        "        pass\n",
        "\n",
        "    def learned_act(self, s):\n",
        "        return np.random.randint(0, 4)"
      ],
      "execution_count": 0,
      "outputs": []
    },
    {
      "metadata": {
        "id": "lfhdJRBtV5v-",
        "colab_type": "text"
      },
      "cell_type": "markdown",
      "source": [
        "***\n",
        "***\n",
        "__Question 4__ Visualize the game moves. You need to fill in the following function for the evaluation:"
      ]
    },
    {
      "metadata": {
        "id": "ER6RD9gZV5v_",
        "colab_type": "code",
        "colab": {}
      },
      "cell_type": "code",
      "source": [
        "def test(agent,env,epochs,prefix='',greedy=True):\n",
        "    # Number of won games\n",
        "    score = 0\n",
        "        \n",
        "    for e in range(epochs):\n",
        "        \n",
        "        state = env.reset()\n",
        "        game_over = False\n",
        "\n",
        "        win = 0\n",
        "        lose = 0\n",
        "\n",
        "        while not game_over:            \n",
        "            action = agent.act(state,greedy)\n",
        "            # Apply an action to the environment, get the next state, the reward\n",
        "            # and if the games end\n",
        "            state, reward, game_over = env.act(action,False)\n",
        "\n",
        "            # Update the counters\n",
        "            if reward > 0:\n",
        "                win = win + reward\n",
        "            if reward < 0:\n",
        "                lose = lose - reward\n",
        "        \n",
        "        # Save as a mp4\n",
        "        env.draw(prefix+str(e))\n",
        "\n",
        "        # Update stats\n",
        "        score += win-lose\n",
        "\n",
        "        print(\"Win/lose count {}/{}. Average score ({:.2f})\"\n",
        "              .format(win, lose, score/(1+e)))\n",
        "    print('Final score: '+str(score/epochs))"
      ],
      "execution_count": 0,
      "outputs": []
    },
    {
      "metadata": {
        "id": "aT0tAKw0V5wB",
        "colab_type": "code",
        "outputId": "0e868c09-9645-473b-e585-24fa55a1926e",
        "colab": {
          "base_uri": "https://localhost:8080/",
          "height": 443
        }
      },
      "cell_type": "code",
      "source": [
        "# Initialize the game\n",
        "env = Environment(grid_size=size, max_time=T,temperature=temperature)\n",
        "\n",
        "# Initialize the agent!\n",
        "agent = RandomAgent()\n",
        "\n",
        "test(agent,env,epochs_test,prefix='random')\n",
        "HTML(display_videos('random0.mp4'))"
      ],
      "execution_count": 8,
      "outputs": [
        {
          "output_type": "stream",
          "text": [
            "Win/lose count 9.0/19.0. Average score (-10.0)\n",
            "Win/lose count 10.0/20.0. Average score (-10.0)\n",
            "Win/lose count 9.5/8.0. Average score (-6.166666666666667)\n",
            "Win/lose count 9.0/11.0. Average score (-5.125)\n",
            "Win/lose count 9.0/8.0. Average score (-3.9)\n",
            "Win/lose count 8.5/13.0. Average score (-4.0)\n",
            "Win/lose count 12.0/19.0. Average score (-4.428571428571429)\n",
            "Win/lose count 6.5/10.0. Average score (-4.3125)\n",
            "Win/lose count 10.5/12.0. Average score (-4.0)\n",
            "Win/lose count 7.0/10.0. Average score (-3.9)\n",
            "Win/lose count 10.0/8.0. Average score (-3.3636363636363638)\n",
            "Win/lose count 11.5/15.0. Average score (-3.375)\n",
            "Win/lose count 6.0/11.0. Average score (-3.5)\n",
            "Win/lose count 10.5/10.0. Average score (-3.2142857142857144)\n",
            "Win/lose count 12.5/15.0. Average score (-3.1666666666666665)\n",
            "Final score: -3.1666666666666665\n"
          ],
          "name": "stdout"
        },
        {
          "output_type": "execute_result",
          "data": {
            "text/html": [
              "<video alt=\"test\" controls>\n",
              "                <source src=\"data:video/mp4;base64,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\" type=\"video/mp4\" />\n",
              "             </video>"
            ],
            "text/plain": [
              "<IPython.core.display.HTML object>"
            ]
          },
          "metadata": {
            "tags": []
          },
          "execution_count": 8
        }
      ]
    },
    {
      "metadata": {
        "id": "LPZPD_o_V5wF",
        "colab_type": "text"
      },
      "cell_type": "markdown",
      "source": [
        "***\n",
        "## DQN"
      ]
    },
    {
      "metadata": {
        "id": "AGqv_sHnV5wF",
        "colab_type": "text"
      },
      "cell_type": "markdown",
      "source": [
        "Let us assume here that $T=\\infty$.\n",
        "\n",
        "***\n",
        "__Question 5__ Let $\\pi$ be a policy, show that:\n",
        "\n",
        "\\begin{equation*}\n",
        "Q^{\\pi}(s,a)=E_{(s',a')\\sim p(.|s,a)}[r(s,a)+\\gamma Q^{\\pi}(s',a')]\n",
        "\\end{equation*}\n",
        "\n",
        "Then, show that for the optimal policy $\\pi^*$ (we assume its existence), the following holds: \n",
        "\n",
        "\\begin{equation*}\n",
        "Q^{*}(s,a)=E_{s'\\sim \\pi^*(.|s,a)}[r(s,a)+\\gamma\\max_{a'}Q^{*}(s',a')].\n",
        "\\end{equation*}\n",
        "Finally, deduce that a plausible objective is:\n",
        "\n",
        "\\begin{equation*}\n",
        "\\mathcal{L}(\\theta)=E_{s' \\sim \\pi^*(.|s,a)}\\Vert r+\\gamma\\max\\max_{a'}Q(s',a',\\theta)-Q(s,a,\\theta)\\Vert^{2}.\n",
        "\\end{equation*}\n",
        "\n",
        "\n"
      ]
    },
    {
      "metadata": {
        "id": "MxJJKJkmV5wI",
        "colab_type": "text"
      },
      "cell_type": "markdown",
      "source": [
        "***\n",
        "\\begin{align*}\n",
        "Q^{\\pi}(s,a) &= E_{p^{\\pi}}[\\sum_{t\\leq T}\\gamma^{t}r(s_{t},a_{t})|s_{0}=s,a_{0}=a]\n",
        "\\\\& = E_{p^{\\pi}}[r(s,a) + \\sum_{1\\leq t\\leq T}\\gamma^{t}r(s_{t},a_{t})|s_{0}=s,a_{0}=a]\n",
        "\\\\& = E_{p^{\\pi}}[r(s,a) + \\gamma\\sum_{0\\leq t\\leq T}\\gamma^{t}r(s_{t+1},a_{t+1})|s_{0}=s,a_{0}=a]\n",
        "\\\\ &= E_{(s',a')\\sim p^{\\pi}(.|s,a)}[r(s,a)+\\gamma Q^{\\pi}(s',a')]\n",
        "\\end{align*} \n",
        "by Markov property. The previous expression becomes with $\\pi=\\pi^*$ :\n",
        "\n",
        "\\begin{equation*}\n",
        "Q^{*}(s,a)=E_{(s',a')\\sim \\pi^*(.|s,a)}[r(s,a)+\\gamma Q^{*}(s',a')] = E_{s\\sim \\pi^*(.|s,a)}[r(s,a)+\\gamma \\max_{a'}Q^{*}(s',a')].\n",
        "\\end{equation*}\n",
        "\n",
        "Then, \n",
        "\n",
        "\\begin{equation*}\n",
        "\\mathcal{L}(\\theta)=E_{s' \\sim \\pi^*(.|s,a)}\\Vert r+\\gamma\\max\\max_{a'}Q(s',a',\\theta)-Q(s,a,\\theta)\\Vert^{2}.\n",
        "\\end{equation*} is supposed to be equal to zero for $Q(s,a,\\theta) = Q(s,a)$. Therefore it is a plausible objective."
      ]
    },
    {
      "metadata": {
        "id": "abgO-XXDV5wJ",
        "colab_type": "text"
      },
      "cell_type": "markdown",
      "source": [
        "***\n",
        "The DQN-learning algorithm relies on these derivations to train the parameters $\\theta$ of a Deep Neural Network:\n",
        "\n",
        "1. At the state $s_t$, select the action $a_t$ with best reward using $Q_t$ and store the results;\n",
        "\n",
        "2. Obtain the new state $s_{t+1}$ from the environment $p$;\n",
        "\n",
        "3. Store $(s_t,a_t,s_{t+1})$;\n",
        "\n",
        "4. Obtain $Q_{t+1}$ by minimizing  $\\mathcal{L}$ from a recovered batch from the previously stored results.\n",
        "\n",
        "***\n",
        "__Question 6__ Implement the class ```Memory``` that stores moves (in a replay buffer) via ```remember``` and provides a ```random_access``` to these. Specify a maximum memory size to avoid side effects. You can for example use a ```list()``` and set by default ```max_memory=100```."
      ]
    },
    {
      "metadata": {
        "id": "0uhYI2x_V5wK",
        "colab_type": "code",
        "colab": {}
      },
      "cell_type": "code",
      "source": [
        "class Memory(object):\n",
        "    def __init__(self, max_memory=100):\n",
        "        self.max_memory = max_memory\n",
        "        self.memory = list()\n",
        "\n",
        "    def remember(self, m):\n",
        "        if len(self.memory) < self.max_memory:\n",
        "            self.memory.append(m)\n",
        "        # If the memory is full we ramdomly replace one element by a new one\n",
        "        else :\n",
        "            n = len(self.memory)\n",
        "            random_index = np.random.randint(0, n)\n",
        "            self.memory[random_index]=m\n",
        "\n",
        "    def random_access(self):\n",
        "        n = len(self.memory)\n",
        "        random_index = np.random.randint(0, n)\n",
        "        return self.memory[random_index]"
      ],
      "execution_count": 0,
      "outputs": []
    },
    {
      "metadata": {
        "id": "BU26bxTBV5wO",
        "colab_type": "text"
      },
      "cell_type": "markdown",
      "source": [
        "***\n",
        "The pipeline we will use for training is given below:"
      ]
    },
    {
      "metadata": {
        "id": "FGbq8DNoV5wO",
        "colab_type": "code",
        "colab": {}
      },
      "cell_type": "code",
      "source": [
        "def train(agent,env,epoch,prefix=''):\n",
        "    # Number of won games\n",
        "    score = 0\n",
        "    loss = 0\n",
        "\n",
        "    for e in range(epoch):\n",
        "        # At each epoch, we restart to a fresh game and get the initial state\n",
        "        state = env.reset()\n",
        "        # This assumes that the games will terminate\n",
        "        game_over = False\n",
        "\n",
        "        win = 0\n",
        "        lose = 0\n",
        "\n",
        "        while not game_over:\n",
        "            # The agent performs an action\n",
        "            action = agent.act(state)\n",
        "            \n",
        "            # Apply an action to the environment, get the next state, the reward\n",
        "            # and if the games end\n",
        "            prev_state = state\n",
        "            state, reward, game_over = env.act(action,train)\n",
        "\n",
        "            # Update the counters\n",
        "            if reward > 0:\n",
        "                win = win + reward\n",
        "            if reward < 0:\n",
        "                lose = lose -reward\n",
        "\n",
        "            # Apply the reinforcement strategy\n",
        "            loss = agent.reinforce(prev_state, state,  action, reward, game_over)\n",
        "\n",
        "        # Save as a mp4\n",
        "        if e % 10 == 0:\n",
        "            env.draw(prefix+str(e))\n",
        "\n",
        "        # Update stats\n",
        "        score += win-lose\n",
        "\n",
        "        print(\"Epoch {:03d}/{:03d} | Loss {:.4f} | Win/lose count {}/{} ({})\"\n",
        "              .format(e, epoch, loss, win, lose, win-lose))\n",
        "        agent.save(name_weights=prefix+'model.h5',name_model=prefix+'model.json')"
      ],
      "execution_count": 0,
      "outputs": []
    },
    {
      "metadata": {
        "id": "8Cb2YeBJV5wR",
        "colab_type": "text"
      },
      "cell_type": "markdown",
      "source": [
        "***\n",
        "__Question 7__ Implement the DQN training algorithm using a cascade of fully connected layers. You can use different learning rate, batch size or memory size parameters. In particular, the loss might oscillate while the player will start to win the games. You have to find a good criterium."
      ]
    },
    {
      "metadata": {
        "id": "dOWVCjfbV5wS",
        "colab_type": "code",
        "colab": {}
      },
      "cell_type": "code",
      "source": [
        "class DQN(Agent):\n",
        "    def __init__(self, grid_size,  epsilon = 0.1, memory_size=100, batch_size = 16,n_state=2):\n",
        "        super(DQN, self).__init__(epsilon = epsilon)\n",
        "\n",
        "        # Discount for Q learning\n",
        "        self.discount = 0.99\n",
        "        \n",
        "        self.grid_size = grid_size\n",
        "        \n",
        "        # number of state\n",
        "        self.n_state = n_state\n",
        "\n",
        "        # Memory\n",
        "        self.memory = Memory(memory_size)\n",
        "        \n",
        "        # Batch size when learning\n",
        "        self.batch_size = batch_size\n",
        "\n",
        "    def learned_act(self, s):\n",
        "        \n",
        "        Q = self.model.predict(np.reshape([s], (1,5,5,self.n_state)))\n",
        "        best_action = np.argmax(Q)\n",
        "        return best_action\n",
        "    \n",
        "    def reinforce(self, s_, n_s_, a_, r_, game_over_):\n",
        "        # Two steps: first memorize the states, second learn from the pool\n",
        "                \n",
        "        self.memory.remember([s_, n_s_, a_, r_, game_over_])\n",
        "        \n",
        "        input_states = np.zeros((self.batch_size, 5,5,self.n_state))\n",
        "        target_q = np.zeros((self.batch_size, 4))\n",
        "                \n",
        "        for i in range(self.batch_size):\n",
        "            # Memory access\n",
        "            [s_, n_s_, a_, r_, game_over_] = self.memory.random_access()\n",
        "            input_states[i,:,:,:] = s_            \n",
        "            Qprime = self.model.predict(np.array([n_s_]))\n",
        "            Q = self.model.predict(np.array([s_]))\n",
        "            \n",
        "            aprime = np.argmax(Qprime)\n",
        "            \n",
        "            # Construction of the loss\n",
        "            if game_over_: ########################################## TODO\n",
        "                target_q[i,:] = Q\n",
        "                #target_q[i,a_] = r_ + self.discount*Qprime[0][aprime] - Q[0][a_]\n",
        "            else:\n",
        "                target_q[i,:] = Q\n",
        "                target_q[i,a_] = r_ + self.discount*Qprime[0][aprime] - Q[0][a_]\n",
        "        \n",
        "        # HINT: Clip the target to avoid exploiding gradients.. -- clipping is a bit tighter\n",
        "        target_q = np.clip(target_q, -3, 3)\n",
        "\n",
        "        l = self.model.train_on_batch(input_states, target_q)\n",
        "\n",
        "        return l\n",
        "\n",
        "    def save(self,name_weights='model.h5',name_model='model.json'):\n",
        "        self.model.save_weights(name_weights, overwrite=True)\n",
        "        with open(name_model, \"w\") as outfile:\n",
        "            json.dump(self.model.to_json(), outfile)\n",
        "            \n",
        "    def load(self,name_weights='model.h5',name_model='model.json'):\n",
        "        with open(name_model, \"r\") as jfile:\n",
        "            model = model_from_json(json.load(jfile))\n",
        "        model.load_weights(name_weights)\n",
        "        model.compile(\"sgd\", \"mse\")\n",
        "        self.model = model\n",
        "\n",
        "            \n",
        "class DQN_FC(DQN):\n",
        "    def __init__(self, *args, lr=0.1,**kwargs):\n",
        "        super(DQN_FC, self).__init__( *args,**kwargs)\n",
        "        \n",
        "        # NN Model        \n",
        "        model = Sequential()\n",
        "        model.add(keras.layers.Flatten())\n",
        "        model.add(Dense(150))\n",
        "        model.add(Activation('relu'))\n",
        "        model.add(Dense(150))\n",
        "        model.add(Activation('relu'))\n",
        "        model.add(Dense(4))\n",
        "        \n",
        "        model.compile(sgd(lr=lr, decay=1e-4, momentum=0.0), \"mse\")\n",
        "        self.model = model\n",
        "        "
      ],
      "execution_count": 0,
      "outputs": []
    },
    {
      "metadata": {
        "id": "abiNksevV5wU",
        "colab_type": "code",
        "outputId": "8375c3c4-4665-4344-b20e-0dd379d3abb9",
        "colab": {
          "base_uri": "https://localhost:8080/",
          "height": 868
        }
      },
      "cell_type": "code",
      "source": [
        "env = Environment(grid_size=size, max_time=T, temperature=0.3)\n",
        "agent = DQN_FC(size, lr=1e-1, epsilon = 0.1, memory_size=1000, batch_size = 30)\n",
        "train(agent, env, epochs_train, prefix='fc_train')\n",
        "HTML(display_videos('fc_train40.mp4'))"
      ],
      "execution_count": 82,
      "outputs": [
        {
          "output_type": "stream",
          "text": [
            "Epoch 000/041 | Loss 0.0070 | Win/lose count 3.0/12.0 (-9.0)\n",
            "Epoch 001/041 | Loss 0.0080 | Win/lose count 7.0/8.0 (-1.0)\n",
            "Epoch 002/041 | Loss 0.0108 | Win/lose count 3.5/3.0 (0.5)\n",
            "Epoch 003/041 | Loss 0.0048 | Win/lose count 4.5/8.0 (-3.5)\n",
            "Epoch 004/041 | Loss 0.0065 | Win/lose count 3.0/6.0 (-3.0)\n",
            "Epoch 005/041 | Loss 0.0007 | Win/lose count 5.5/7.0 (-1.5)\n",
            "Epoch 006/041 | Loss 0.0007 | Win/lose count 4.5/0 (4.5)\n",
            "Epoch 007/041 | Loss 0.0080 | Win/lose count 3.5/1.0 (2.5)\n",
            "Epoch 008/041 | Loss 0.0035 | Win/lose count 2.5/2.0 (0.5)\n",
            "Epoch 009/041 | Loss 0.0033 | Win/lose count 3.5/1.0 (2.5)\n",
            "Epoch 010/041 | Loss 0.0004 | Win/lose count 5.5/6.0 (-0.5)\n",
            "Epoch 011/041 | Loss 0.0041 | Win/lose count 4.5/2.0 (2.5)\n",
            "Epoch 012/041 | Loss 0.0056 | Win/lose count 4.0/1.0 (3.0)\n",
            "Epoch 013/041 | Loss 0.0021 | Win/lose count 3.5/5.0 (-1.5)\n",
            "Epoch 014/041 | Loss 0.0016 | Win/lose count 3.0/2.0 (1.0)\n",
            "Epoch 015/041 | Loss 0.0026 | Win/lose count 2.5/1.0 (1.5)\n",
            "Epoch 016/041 | Loss 0.0040 | Win/lose count 7.0/4.0 (3.0)\n",
            "Epoch 017/041 | Loss 0.0067 | Win/lose count 5.0/5.0 (0.0)\n",
            "Epoch 018/041 | Loss 0.0018 | Win/lose count 6.0/5.0 (1.0)\n",
            "Epoch 019/041 | Loss 0.0057 | Win/lose count 4.5/6.0 (-1.5)\n",
            "Epoch 020/041 | Loss 0.0020 | Win/lose count 4.0/4.0 (0.0)\n",
            "Epoch 021/041 | Loss 0.0044 | Win/lose count 7.0/5.0 (2.0)\n",
            "Epoch 022/041 | Loss 0.0059 | Win/lose count 6.5/4.0 (2.5)\n",
            "Epoch 023/041 | Loss 0.0010 | Win/lose count 3.5/1.0 (2.5)\n",
            "Epoch 024/041 | Loss 0.0025 | Win/lose count 8.0/2.0 (6.0)\n",
            "Epoch 025/041 | Loss 0.0016 | Win/lose count 7.0/1.0 (6.0)\n",
            "Epoch 026/041 | Loss 0.0011 | Win/lose count 5.0/3.0 (2.0)\n",
            "Epoch 027/041 | Loss 0.0006 | Win/lose count 10.5/4.0 (6.5)\n",
            "Epoch 028/041 | Loss 0.0092 | Win/lose count 12.5/2.0 (10.5)\n",
            "Epoch 029/041 | Loss 0.0025 | Win/lose count 10.5/3.0 (7.5)\n",
            "Epoch 030/041 | Loss 0.0050 | Win/lose count 5.0/4.0 (1.0)\n",
            "Epoch 031/041 | Loss 0.0011 | Win/lose count 14.5/3.0 (11.5)\n",
            "Epoch 032/041 | Loss 0.0019 | Win/lose count 9.0/5.0 (4.0)\n",
            "Epoch 033/041 | Loss 0.0040 | Win/lose count 16.0/3.0 (13.0)\n",
            "Epoch 034/041 | Loss 0.0019 | Win/lose count 7.5/1.0 (6.5)\n",
            "Epoch 035/041 | Loss 0.0034 | Win/lose count 11.0/0 (11.0)\n",
            "Epoch 036/041 | Loss 0.0028 | Win/lose count 9.0/4.0 (5.0)\n",
            "Epoch 037/041 | Loss 0.0009 | Win/lose count 12.5/7.0 (5.5)\n",
            "Epoch 038/041 | Loss 0.0040 | Win/lose count 10.5/1.0 (9.5)\n",
            "Epoch 039/041 | Loss 0.0028 | Win/lose count 4.5/1.0 (3.5)\n",
            "Epoch 040/041 | Loss 0.0030 | Win/lose count 6.0/4.0 (2.0)\n"
          ],
          "name": "stdout"
        },
        {
          "output_type": "execute_result",
          "data": {
            "text/html": [
              "<video alt=\"test\" controls>\n",
              "                <source src=\"data:video/mp4;base64,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\" type=\"video/mp4\" />\n",
              "             </video>"
            ],
            "text/plain": [
              "<IPython.core.display.HTML object>"
            ]
          },
          "metadata": {
            "tags": []
          },
          "execution_count": 82
        }
      ]
    },
    {
      "metadata": {
        "id": "loMCD8jOV5wX",
        "colab_type": "text"
      },
      "cell_type": "markdown",
      "source": [
        "***\n",
        "***\n",
        "__Question 8__ Implement the DQN training algorithm using a CNN (for example, 2 convolutional layers and one final fully connected layer)."
      ]
    },
    {
      "metadata": {
        "id": "egDaKqNtV5wX",
        "colab_type": "code",
        "colab": {}
      },
      "cell_type": "code",
      "source": [
        "class DQN_CNN(DQN):\n",
        "    def __init__(self, *args,lr=0.1,**kwargs):\n",
        "        super(DQN_CNN, self).__init__(*args,**kwargs)\n",
        "        \n",
        "        # CNN model\n",
        "        model = Sequential()\n",
        "        model.add(Conv2D(100, (2,2)))\n",
        "        model.add(MaxPooling2D(pool_size=(2, 2)))\n",
        "        model.add(Conv2D(50, (1,1)))\n",
        "        model.add(keras.layers.Flatten())\n",
        "        model.add(Dense(4))\n",
        "        \n",
        "        model.compile(sgd(lr=lr, decay=1e-4, momentum=0.0), \"mse\")\n",
        "        self.model = model"
      ],
      "execution_count": 0,
      "outputs": []
    },
    {
      "metadata": {
        "id": "krrR28uzV5wb",
        "colab_type": "code",
        "outputId": "a9e3e569-3ca3-4914-90c4-903dc47fc25a",
        "colab": {
          "base_uri": "https://localhost:8080/",
          "height": 868
        }
      },
      "cell_type": "code",
      "source": [
        "env = Environment(grid_size=size, max_time=T, temperature=0.3)\n",
        "agent = DQN_CNN(size, lr=.1, epsilon = 0.1, memory_size=1000, batch_size = 30) \n",
        "train(agent,env,epochs_train,prefix='cnn_train')\n",
        "HTML(display_videos('cnn_train40.mp4'))"
      ],
      "execution_count": 84,
      "outputs": [
        {
          "output_type": "stream",
          "text": [
            "Epoch 000/041 | Loss 0.0052 | Win/lose count 5.0/7.0 (-2.0)\n",
            "Epoch 001/041 | Loss 0.0071 | Win/lose count 8.0/8.0 (0.0)\n",
            "Epoch 002/041 | Loss 0.0013 | Win/lose count 3.0/1.0 (2.0)\n",
            "Epoch 003/041 | Loss 0.0074 | Win/lose count 5.0/4.0 (1.0)\n",
            "Epoch 004/041 | Loss 0.0104 | Win/lose count 2.5/1.0 (1.5)\n",
            "Epoch 005/041 | Loss 0.0020 | Win/lose count 5.5/5.0 (0.5)\n",
            "Epoch 006/041 | Loss 0.0077 | Win/lose count 1.5/4.0 (-2.5)\n",
            "Epoch 007/041 | Loss 0.0009 | Win/lose count 5.5/2.0 (3.5)\n",
            "Epoch 008/041 | Loss 0.0063 | Win/lose count 9.0/2.0 (7.0)\n",
            "Epoch 009/041 | Loss 0.0034 | Win/lose count 4.5/3.0 (1.5)\n",
            "Epoch 010/041 | Loss 0.0058 | Win/lose count 2.0/2.0 (0.0)\n",
            "Epoch 011/041 | Loss 0.0031 | Win/lose count 5.5/1.0 (4.5)\n",
            "Epoch 012/041 | Loss 0.0071 | Win/lose count 2.5/3.0 (-0.5)\n",
            "Epoch 013/041 | Loss 0.0026 | Win/lose count 3.5/3.0 (0.5)\n",
            "Epoch 014/041 | Loss 0.0010 | Win/lose count 0/5.0 (-5.0)\n",
            "Epoch 015/041 | Loss 0.0061 | Win/lose count 5.0/1.0 (4.0)\n",
            "Epoch 016/041 | Loss 0.0023 | Win/lose count 6.0/1.0 (5.0)\n",
            "Epoch 017/041 | Loss 0.0054 | Win/lose count 6.0/1.0 (5.0)\n",
            "Epoch 018/041 | Loss 0.0008 | Win/lose count 6.5/6.0 (0.5)\n",
            "Epoch 019/041 | Loss 0.0073 | Win/lose count 9.0/5.0 (4.0)\n",
            "Epoch 020/041 | Loss 0.0043 | Win/lose count 6.0/0 (6.0)\n",
            "Epoch 021/041 | Loss 0.0013 | Win/lose count 9.5/3.0 (6.5)\n",
            "Epoch 022/041 | Loss 0.0020 | Win/lose count 8.0/1.0 (7.0)\n",
            "Epoch 023/041 | Loss 0.0037 | Win/lose count 6.0/2.0 (4.0)\n",
            "Epoch 024/041 | Loss 0.0019 | Win/lose count 9.5/2.0 (7.5)\n",
            "Epoch 025/041 | Loss 0.0074 | Win/lose count 11.5/4.0 (7.5)\n",
            "Epoch 026/041 | Loss 0.0034 | Win/lose count 12.5/2.0 (10.5)\n",
            "Epoch 027/041 | Loss 0.0012 | Win/lose count 4.0/2.0 (2.0)\n",
            "Epoch 028/041 | Loss 0.0022 | Win/lose count 9.5/0 (9.5)\n",
            "Epoch 029/041 | Loss 0.0030 | Win/lose count 13.5/2.0 (11.5)\n",
            "Epoch 030/041 | Loss 0.0038 | Win/lose count 5.5/4.0 (1.5)\n",
            "Epoch 031/041 | Loss 0.0049 | Win/lose count 4.5/0 (4.5)\n",
            "Epoch 032/041 | Loss 0.0028 | Win/lose count 18.0/6.0 (12.0)\n",
            "Epoch 033/041 | Loss 0.0016 | Win/lose count 17.5/3.0 (14.5)\n",
            "Epoch 034/041 | Loss 0.0050 | Win/lose count 14.0/6.0 (8.0)\n",
            "Epoch 035/041 | Loss 0.0024 | Win/lose count 6.0/1.0 (5.0)\n",
            "Epoch 036/041 | Loss 0.0043 | Win/lose count 20.0/2.0 (18.0)\n",
            "Epoch 037/041 | Loss 0.0040 | Win/lose count 19.0/2.0 (17.0)\n",
            "Epoch 038/041 | Loss 0.0035 | Win/lose count 21.0/5.0 (16.0)\n",
            "Epoch 039/041 | Loss 0.0028 | Win/lose count 17.0/6.0 (11.0)\n",
            "Epoch 040/041 | Loss 0.0045 | Win/lose count 12.5/1.0 (11.5)\n"
          ],
          "name": "stdout"
        },
        {
          "output_type": "execute_result",
          "data": {
            "text/html": [
              "<video alt=\"test\" controls>\n",
              "                <source src=\"data:video/mp4;base64,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\" type=\"video/mp4\" />\n",
              "             </video>"
            ],
            "text/plain": [
              "<IPython.core.display.HTML object>"
            ]
          },
          "metadata": {
            "tags": []
          },
          "execution_count": 84
        }
      ]
    },
    {
      "metadata": {
        "id": "_R9Ft9-1V5wg",
        "colab_type": "text"
      },
      "cell_type": "markdown",
      "source": [
        "***\n",
        "***\n",
        "__Question 9__ Test both algorithms and compare their performances. Which issue(s) do you observe? Observe also different behaviors by changing the temperature."
      ]
    },
    {
      "metadata": {
        "id": "aE5fMmvvV5wi",
        "colab_type": "code",
        "outputId": "2a9538b2-461f-4f6c-8ea8-6f5ad7ffb6a1",
        "colab": {
          "base_uri": "https://localhost:8080/",
          "height": 1904
        }
      },
      "cell_type": "code",
      "source": [
        "temperatures = [0.1,0.3,0.5]\n",
        "for temperature in temperatures:\n",
        "    print('\\nTemperature: {}\\n'.format(temperature))\n",
        "    env = Environment(grid_size=size, max_time=T,temperature=temperature)\n",
        "    agent_cnn = DQN_CNN(size, lr=.1, epsilon = 0.1, memory_size=2000, batch_size = 32)\n",
        "    agent_cnn.load(name_weights='cnn_trainmodel.h5',name_model='cnn_trainmodel.json')\n",
        "\n",
        "    agent_fc = DQN_FC(size, lr=.1, epsilon = 0.1, memory_size=2000, batch_size = 32)\n",
        "    agent_fc.load(name_weights='fc_trainmodel.h5',name_model='fc_trainmodel.json')\n",
        "    print('Test of the CNN')\n",
        "    test(agent_cnn,env,epochs_test,prefix='cnn_test')\n",
        "    print('Test of the FC')\n",
        "    test(agent_fc,env,epochs_test,prefix='fc_test')"
      ],
      "execution_count": 85,
      "outputs": [
        {
          "output_type": "stream",
          "text": [
            "\n",
            "Temperature: 0.1\n",
            "\n",
            "Test of the CNN\n",
            "Win/lose count 1.5/0. Average score (1.5)\n",
            "Win/lose count 3.5/0. Average score (2.5)\n",
            "Win/lose count 4.0/1.0. Average score (2.6666666666666665)\n",
            "Win/lose count 2.5/0. Average score (2.625)\n",
            "Win/lose count 5.5/1.0. Average score (3.0)\n",
            "Win/lose count 5.0/0. Average score (3.3333333333333335)\n",
            "Win/lose count 5.5/3.0. Average score (3.2142857142857144)\n",
            "Win/lose count 3.0/0. Average score (3.1875)\n",
            "Win/lose count 4.5/1.0. Average score (3.2222222222222223)\n",
            "Win/lose count 4.0/1.0. Average score (3.2)\n",
            "Win/lose count 7.0/3.0. Average score (3.272727272727273)\n",
            "Win/lose count 4.0/0. Average score (3.3333333333333335)\n",
            "Win/lose count 7.5/3.0. Average score (3.423076923076923)\n",
            "Win/lose count 6.5/1.0. Average score (3.5714285714285716)\n",
            "Win/lose count 4.0/2.0. Average score (3.466666666666667)\n",
            "Final score: 3.466666666666667\n",
            "Test of the FC\n",
            "Win/lose count 1.0/0. Average score (1.0)\n",
            "Win/lose count 2.5/1.0. Average score (1.25)\n",
            "Win/lose count 3.0/0. Average score (1.8333333333333333)\n",
            "Win/lose count 5.5/1.0. Average score (2.5)\n",
            "Win/lose count 3.5/1.0. Average score (2.5)\n",
            "Win/lose count 4.5/0. Average score (2.8333333333333335)\n",
            "Win/lose count 1.5/1.0. Average score (2.5)\n",
            "Win/lose count 3.5/2.0. Average score (2.375)\n",
            "Win/lose count 1.5/1.0. Average score (2.1666666666666665)\n",
            "Win/lose count 2.0/1.0. Average score (2.05)\n",
            "Win/lose count 5.0/2.0. Average score (2.1363636363636362)\n",
            "Win/lose count 7.0/1.0. Average score (2.4583333333333335)\n",
            "Win/lose count 6.0/1.0. Average score (2.6538461538461537)\n",
            "Win/lose count 3.5/0. Average score (2.7142857142857144)\n",
            "Win/lose count 6.0/1.0. Average score (2.8666666666666667)\n",
            "Final score: 2.8666666666666667\n",
            "\n",
            "Temperature: 0.3\n",
            "\n",
            "Test of the CNN\n",
            "Win/lose count 13.0/3.0. Average score (10.0)\n",
            "Win/lose count 7.5/1.0. Average score (8.25)\n",
            "Win/lose count 6.0/2.0. Average score (6.833333333333333)\n",
            "Win/lose count 4.5/0. Average score (6.25)\n",
            "Win/lose count 15.5/3.0. Average score (7.5)\n",
            "Win/lose count 18.5/2.0. Average score (9.0)\n",
            "Win/lose count 18.0/6.0. Average score (9.428571428571429)\n",
            "Win/lose count 1.5/2.0. Average score (8.1875)\n",
            "Win/lose count 10.0/1.0. Average score (8.277777777777779)\n",
            "Win/lose count 13.5/6.0. Average score (8.2)\n",
            "Win/lose count 14.0/4.0. Average score (8.363636363636363)\n",
            "Win/lose count 6.0/2.0. Average score (8.0)\n",
            "Win/lose count 4.5/3.0. Average score (7.5)\n",
            "Win/lose count 21.0/2.0. Average score (8.321428571428571)\n",
            "Win/lose count 16.5/4.0. Average score (8.6)\n",
            "Final score: 8.6\n",
            "Test of the FC\n",
            "Win/lose count 6.0/2.0. Average score (4.0)\n",
            "Win/lose count 11.0/5.0. Average score (5.0)\n",
            "Win/lose count 8.0/3.0. Average score (5.0)\n",
            "Win/lose count 15.0/6.0. Average score (6.0)\n",
            "Win/lose count 7.0/4.0. Average score (5.4)\n",
            "Win/lose count 8.0/7.0. Average score (4.666666666666667)\n",
            "Win/lose count 15.5/4.0. Average score (5.642857142857143)\n",
            "Win/lose count 10.5/5.0. Average score (5.625)\n",
            "Win/lose count 6.5/2.0. Average score (5.5)\n",
            "Win/lose count 20.5/3.0. Average score (6.7)\n",
            "Win/lose count 15.0/6.0. Average score (6.909090909090909)\n",
            "Win/lose count 13.5/0. Average score (7.458333333333333)\n",
            "Win/lose count 5.5/1.0. Average score (7.230769230769231)\n",
            "Win/lose count 16.0/3.0. Average score (7.642857142857143)\n",
            "Win/lose count 10.5/1.0. Average score (7.766666666666667)\n",
            "Final score: 7.766666666666667\n",
            "\n",
            "Temperature: 0.5\n",
            "\n",
            "Test of the CNN\n",
            "Win/lose count 16.5/6.0. Average score (10.5)\n",
            "Win/lose count 15.5/2.0. Average score (12.0)\n",
            "Win/lose count 25.5/13.0. Average score (12.166666666666666)\n",
            "Win/lose count 21.0/5.0. Average score (13.125)\n",
            "Win/lose count 17.0/4.0. Average score (13.1)\n",
            "Win/lose count 8.5/2.0. Average score (12.0)\n",
            "Win/lose count 8.5/3.0. Average score (11.071428571428571)\n",
            "Win/lose count 21.5/5.0. Average score (11.75)\n",
            "Win/lose count 16.5/8.0. Average score (11.38888888888889)\n",
            "Win/lose count 23.0/5.0. Average score (12.05)\n",
            "Win/lose count 14.0/3.0. Average score (11.954545454545455)\n",
            "Win/lose count 19.0/6.0. Average score (12.041666666666666)\n",
            "Win/lose count 15.5/2.0. Average score (12.153846153846153)\n",
            "Win/lose count 28.5/5.0. Average score (12.964285714285714)\n",
            "Win/lose count 22.5/4.0. Average score (13.333333333333334)\n",
            "Final score: 13.333333333333334\n",
            "Test of the FC\n",
            "Win/lose count 24.0/5.0. Average score (19.0)\n",
            "Win/lose count 30.0/2.0. Average score (23.5)\n",
            "Win/lose count 11.5/5.0. Average score (17.833333333333332)\n",
            "Win/lose count 16.0/6.0. Average score (15.875)\n",
            "Win/lose count 16.5/5.0. Average score (15.0)\n",
            "Win/lose count 12.5/2.0. Average score (14.25)\n",
            "Win/lose count 16.5/5.0. Average score (13.857142857142858)\n",
            "Win/lose count 7.5/2.0. Average score (12.8125)\n",
            "Win/lose count 18.0/1.0. Average score (13.277777777777779)\n",
            "Win/lose count 17.0/1.0. Average score (13.55)\n",
            "Win/lose count 22.5/4.0. Average score (14.0)\n",
            "Win/lose count 10.0/1.0. Average score (13.583333333333334)\n",
            "Win/lose count 7.0/0. Average score (13.076923076923077)\n",
            "Win/lose count 24.5/4.0. Average score (13.607142857142858)\n",
            "Win/lose count 16.0/6.0. Average score (13.366666666666667)\n",
            "Final score: 13.366666666666667\n"
          ],
          "name": "stdout"
        }
      ]
    },
    {
      "metadata": {
        "id": "RwIjHtRMV5wl",
        "colab_type": "code",
        "outputId": "2375d412-da50-4e79-a468-05c3136252f7",
        "colab": {
          "base_uri": "https://localhost:8080/",
          "height": 293
        }
      },
      "cell_type": "code",
      "source": [
        "HTML(display_videos('cnn_test10.mp4'))"
      ],
      "execution_count": 86,
      "outputs": [
        {
          "output_type": "execute_result",
          "data": {
            "text/html": [
              "<video alt=\"test\" controls>\n",
              "                <source src=\"data:video/mp4;base64,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\" type=\"video/mp4\" />\n",
              "             </video>"
            ],
            "text/plain": [
              "<IPython.core.display.HTML object>"
            ]
          },
          "metadata": {
            "tags": []
          },
          "execution_count": 86
        }
      ]
    },
    {
      "metadata": {
        "id": "5fjL-d6-V5wp",
        "colab_type": "code",
        "outputId": "5658831e-bbfb-496b-f86e-802875c9fc52",
        "colab": {
          "base_uri": "https://localhost:8080/",
          "height": 293
        }
      },
      "cell_type": "code",
      "source": [
        "HTML(display_videos('fc_test10.mp4'))"
      ],
      "execution_count": 87,
      "outputs": [
        {
          "output_type": "execute_result",
          "data": {
            "text/html": [
              "<video alt=\"test\" controls>\n",
              "                <source src=\"data:video/mp4;base64,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\" type=\"video/mp4\" />\n",
              "             </video>"
            ],
            "text/plain": [
              "<IPython.core.display.HTML object>"
            ]
          },
          "metadata": {
            "tags": []
          },
          "execution_count": 87
        }
      ]
    },
    {
      "metadata": {
        "id": "mO6sMQAXV5ws",
        "colab_type": "text"
      },
      "cell_type": "markdown",
      "source": [
        "***\n",
        "The algothms behave quite well locally but they fail to explore the map and often stay blocked in some area of the island. \n",
        "\n",
        "We see that using $\\varepsilon$-greedy exploration increases the test performances.\n",
        "\n",
        "For low temperatures, the FC network seems to obtain better performances than the CNN. For higher temperatures, the situation changes."
      ]
    },
    {
      "metadata": {
        "id": "Vw0tj_oMV5wt",
        "colab_type": "text"
      },
      "cell_type": "markdown",
      "source": [
        "***\n",
        "\n",
        "The algorithm tends to not explore the map which can be an issue. We propose two ideas in order to encourage exploration:\n",
        "1. Incorporating a decreasing $\\epsilon$-greedy exploration. You can use the method ```set_epsilon```\n",
        "2. Append via the environment a new state that describes if a cell has been visited or not\n",
        "\n",
        "***\n",
        "__Question 10__ Design a new ```train_explore``` function and environment class ```EnvironmentExploring``` to tackle the issue of exploration.\n",
        "\n"
      ]
    },
    {
      "metadata": {
        "id": "8Zac8RDxV5wv",
        "colab_type": "code",
        "colab": {}
      },
      "cell_type": "code",
      "source": [
        "def train_explore(agent,env,epoch,prefix=''):\n",
        "    # Number of won games\n",
        "    score = 0\n",
        "    loss = 0\n",
        "\n",
        "    for e in range(epoch):\n",
        "        # At each epoch, we restart to a fresh game and get the initial state\n",
        "        state = env.reset()\n",
        "        # This assumes that the games will terminate\n",
        "        game_over = False\n",
        "\n",
        "        win = 0\n",
        "        lose = 0\n",
        "\n",
        "        while not game_over:\n",
        "            # The agent performs an action\n",
        "            action = agent.act(state)\n",
        "\n",
        "            # Apply an action to the environment, get the next state, the reward\n",
        "            # and if the games end\n",
        "            prev_state = state\n",
        "            state, reward, game_over = env.act(action, train=True)\n",
        "\n",
        "            # Update the counters\n",
        "            if reward > 0:\n",
        "                win = win + reward\n",
        "            if reward < 0:\n",
        "                lose = lose -reward\n",
        "\n",
        "            # Apply the reinforcement strategy            \n",
        "            loss = agent.reinforce(prev_state, state,  action, reward, game_over)\n",
        "\n",
        "        # Save as a mp4\n",
        "        if e % 10 == 0:\n",
        "            env.draw(prefix+str(e))\n",
        "\n",
        "        # Update stats\n",
        "        score += win-lose\n",
        "\n",
        "        print(\"Epoch {:03d}/{:03d} | Loss {:.4f} | Win/lose count {}/{:.2f} ({:.2f})\"\n",
        "              .format(e, epoch, loss, win, lose, win-lose))\n",
        "        agent.save(name_weights=prefix+'model.h5',name_model=prefix+'model.json')\n",
        "        \n",
        "        # Decrease of epsilon\n",
        "        agent.set_epsilon(agent.epsilon*0.95)\n",
        "        \n",
        "class EnvironmentExploring(object):\n",
        "    def __init__(self, grid_size=10, max_time=500, temperature=0.1):\n",
        "        grid_size = grid_size+4\n",
        "        self.grid_size = grid_size\n",
        "        self.max_time = max_time\n",
        "        self.temperature = temperature\n",
        "\n",
        "        #board on which one plays\n",
        "        self.board = np.zeros((grid_size,grid_size))\n",
        "        self.position = np.zeros((grid_size,grid_size))\n",
        "        self.malus_position = np.zeros((grid_size,grid_size))\n",
        "\n",
        "        # coordinate of the rat\n",
        "        self.x = 0\n",
        "        self.y = 1\n",
        "\n",
        "        # self time\n",
        "        self.t = 0\n",
        "\n",
        "        self.scale=16\n",
        "\n",
        "        self.to_draw = np.zeros((max_time+2, grid_size*self.scale, grid_size*self.scale, 3))\n",
        "\n",
        "\n",
        "    def draw(self,e):\n",
        "        skvideo.io.vwrite(str(e) + '.mp4', self.to_draw)\n",
        "\n",
        "    def get_frame(self,t):\n",
        "        b = np.zeros((self.grid_size,self.grid_size,3))+128\n",
        "        b[self.board>0,0] = 256\n",
        "        b[self.board < 0, 2] = 256\n",
        "        b[self.x,self.y,:]=256\n",
        "        b[-2:,:,:]=0\n",
        "        b[:,-2:,:]=0\n",
        "        b[:2,:,:]=0\n",
        "        b[:,:2,:]=0\n",
        "        \n",
        "        b =  cv2.resize(b, None, fx=self.scale, fy=self.scale, interpolation=cv2.INTER_NEAREST)\n",
        "\n",
        "        self.to_draw[t,:,:,:]=b\n",
        "\n",
        "\n",
        "    def act(self, action, train):\n",
        "        \"\"\"This function returns the new state, reward and decides if the\n",
        "        game ends.\"\"\"\n",
        "\n",
        "        self.get_frame(int(self.t))\n",
        "\n",
        "        self.position = np.zeros((self.grid_size, self.grid_size))\n",
        "\n",
        "        self.position[0:2,:]= -1\n",
        "        self.position[:,0:2] = -1\n",
        "        self.position[-2:, :] = -1\n",
        "        self.position[-2:, :] = -1\n",
        "\n",
        "        self.position[self.x, self.y] = 1\n",
        "        if action == 0:\n",
        "            if self.x == self.grid_size-3:\n",
        "                self.x = self.x-1\n",
        "            else:\n",
        "                self.x = self.x + 1\n",
        "        elif action == 1:\n",
        "            if self.x == 2:\n",
        "                self.x = self.x+1\n",
        "            else:\n",
        "                self.x = self.x-1\n",
        "        elif action == 2:\n",
        "            if self.y == self.grid_size - 3:\n",
        "                self.y = self.y - 1\n",
        "            else:\n",
        "                self.y = self.y + 1\n",
        "        elif action == 3:\n",
        "            if self.y == 2:\n",
        "                self.y = self.y + 1\n",
        "            else:\n",
        "                self.y = self.y - 1\n",
        "        else:\n",
        "            RuntimeError('Error: action not recognized')\n",
        "\n",
        "        self.t = self.t + 1\n",
        "        reward = self.board[self.x, self.y]\n",
        "        self.board[self.x, self.y] = 0\n",
        "        game_over = self.t > self.max_time\n",
        "        state = np.concatenate((self.malus_position.reshape(self.grid_size, self.grid_size,1),\n",
        "                                self.board.reshape(self.grid_size, self.grid_size,1),\n",
        "                        self.position.reshape(self.grid_size, self.grid_size,1)),axis=2)\n",
        "        state = state[self.x-2:self.x+3,self.y-2:self.y+3,:]\n",
        "        \n",
        "        if train:\n",
        "            reward -= self.malus_position[self.x, self.y]\n",
        "        self.malus_position[self.x, self.y] = 0.1\n",
        "\n",
        "        return state, reward, game_over\n",
        "\n",
        "    def reset(self):\n",
        "        \"\"\"This function resets the game and returns the initial state\"\"\"\n",
        "\n",
        "        self.x = np.random.randint(3, self.grid_size-3, size=1)[0]\n",
        "        self.y = np.random.randint(3, self.grid_size-3, size=1)[0]\n",
        "\n",
        "\n",
        "        bonus = 0.5*np.random.binomial(1,self.temperature,size=self.grid_size**2)\n",
        "        bonus = bonus.reshape(self.grid_size,self.grid_size)\n",
        "\n",
        "        malus = -1.0*np.random.binomial(1,self.temperature,size=self.grid_size**2)\n",
        "        malus = malus.reshape(self.grid_size, self.grid_size)\n",
        "\n",
        "        self.to_draw = np.zeros((self.max_time+2, self.grid_size*self.scale, self.grid_size*self.scale, 3))\n",
        "\n",
        "\n",
        "        malus[bonus>0]=0\n",
        "\n",
        "        self.board = bonus + malus\n",
        "\n",
        "        self.position = np.zeros((self.grid_size, self.grid_size))\n",
        "        self.position[0:2,:]= -1\n",
        "        self.position[:,0:2] = -1\n",
        "        self.position[-2:, :] = -1\n",
        "        self.position[-2:, :] = -1\n",
        "        self.board[self.x,self.y] = 0\n",
        "        self.t = 0\n",
        "\n",
        "        state = np.concatenate((self.malus_position.reshape(self.grid_size, self.grid_size,1),\n",
        "                                self.board.reshape(self.grid_size, self.grid_size,1),\n",
        "                        self.position.reshape(self.grid_size, self.grid_size,1)),axis=2)\n",
        "       \n",
        "        state = state[self.x - 2:self.x + 3, self.y - 2:self.y + 3, :]\n",
        "        \n",
        "        return state"
      ],
      "execution_count": 0,
      "outputs": []
    },
    {
      "metadata": {
        "id": "Nq3c30a6V5wx",
        "colab_type": "code",
        "outputId": "6f04d4ca-427a-4524-9553-1efbb610ad64",
        "colab": {
          "base_uri": "https://localhost:8080/",
          "height": 528
        }
      },
      "cell_type": "code",
      "source": [
        "# Training\n",
        "epochs_train = 21\n",
        "env = EnvironmentExploring(grid_size=size, max_time=T, temperature=0.3)\n",
        "agent = DQN_CNN(size, lr=.5, epsilon = 0.1, memory_size=2000, batch_size = 50,n_state=3)\n",
        "train_explore(agent, env, epochs_train, prefix='cnn_train_explore')\n",
        "HTML(display_videos('cnn_train_explore20.mp4'))"
      ],
      "execution_count": 88,
      "outputs": [
        {
          "output_type": "stream",
          "text": [
            "Epoch 000/021 | Loss 0.0038 | Win/lose count 14.0/20.20 (-6.20)\n",
            "Epoch 001/021 | Loss 0.0059 | Win/lose count 21.0/19.10 (1.90)\n",
            "Epoch 002/021 | Loss 0.0026 | Win/lose count 14.000000000000007/22.10 (-8.10)\n",
            "Epoch 003/021 | Loss 0.0024 | Win/lose count 2.9/22.20 (-19.30)\n",
            "Epoch 004/021 | Loss 0.0029 | Win/lose count 8.500000000000002/18.00 (-9.50)\n",
            "Epoch 005/021 | Loss 0.0045 | Win/lose count 13.300000000000006/21.60 (-8.30)\n",
            "Epoch 006/021 | Loss 0.0033 | Win/lose count 8.100000000000003/21.50 (-13.40)\n",
            "Epoch 007/021 | Loss 0.0019 | Win/lose count 14.700000000000006/19.20 (-4.50)\n",
            "Epoch 008/021 | Loss 0.0024 | Win/lose count 11.400000000000006/22.30 (-10.90)\n",
            "Epoch 009/021 | Loss 0.0013 | Win/lose count 14.500000000000007/19.40 (-4.90)\n",
            "Epoch 010/021 | Loss 0.0082 | Win/lose count 8.800000000000002/19.70 (-10.90)\n",
            "Epoch 011/021 | Loss 0.0022 | Win/lose count 10.100000000000003/21.50 (-11.40)\n",
            "Epoch 012/021 | Loss 0.0026 | Win/lose count 2.4/20.50 (-18.10)\n",
            "Epoch 013/021 | Loss 0.0017 | Win/lose count 6.800000000000002/21.40 (-14.60)\n",
            "Epoch 014/021 | Loss 0.0014 | Win/lose count 3.1999999999999997/21.30 (-18.10)\n",
            "Epoch 015/021 | Loss 0.0023 | Win/lose count 16.500000000000007/17.90 (-1.40)\n",
            "Epoch 016/021 | Loss 0.0030 | Win/lose count 14.800000000000008/16.40 (-1.60)\n",
            "Epoch 017/021 | Loss 0.0024 | Win/lose count 5.6000000000000005/18.70 (-13.10)\n",
            "Epoch 018/021 | Loss 0.0016 | Win/lose count 4.8/19.90 (-15.10)\n",
            "Epoch 019/021 | Loss 0.0040 | Win/lose count 9.200000000000003/22.80 (-13.60)\n",
            "Epoch 020/021 | Loss 0.0010 | Win/lose count 5.2/20.80 (-15.60)\n"
          ],
          "name": "stdout"
        },
        {
          "output_type": "execute_result",
          "data": {
            "text/html": [
              "<video alt=\"test\" controls>\n",
              "                <source src=\"data:video/mp4;base64,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\" type=\"video/mp4\" />\n",
              "             </video>"
            ],
            "text/plain": [
              "<IPython.core.display.HTML object>"
            ]
          },
          "metadata": {
            "tags": []
          },
          "execution_count": 88
        }
      ]
    },
    {
      "metadata": {
        "id": "IS1kZaq2V5w0",
        "colab_type": "code",
        "outputId": "a4e760a6-f696-4271-8f19-7e8e7c47c3ba",
        "colab": {
          "base_uri": "https://localhost:8080/",
          "height": 565
        }
      },
      "cell_type": "code",
      "source": [
        "# Evaluation\n",
        "agent = DQN_CNN(size, lr=.1, epsilon = 0.1, memory_size=2000, batch_size = 50,n_state=3)\n",
        "agent.load(name_weights='cnn_train_exploremodel.h5',name_model='cnn_train_exploremodel.json')\n",
        "test(agent,env,epochs_test,prefix='cnn_test_explore',greedy=True)\n",
        "HTML(display_videos('cnn_test_explore10.mp4'))"
      ],
      "execution_count": 89,
      "outputs": [
        {
          "output_type": "stream",
          "text": [
            "Win/lose count 12.5/3.0. Average score (9.5)\n",
            "Win/lose count 18.0/1.0. Average score (13.25)\n",
            "Win/lose count 7.0/3.0. Average score (10.166666666666666)\n",
            "Win/lose count 24.5/6.0. Average score (12.25)\n",
            "Win/lose count 8.5/3.0. Average score (10.9)\n",
            "Win/lose count 22.5/3.0. Average score (12.333333333333334)\n",
            "Win/lose count 20.5/2.0. Average score (13.214285714285714)\n",
            "Win/lose count 1.5/0. Average score (11.75)\n",
            "Win/lose count 21.5/5.0. Average score (12.277777777777779)\n",
            "Win/lose count 13.5/1.0. Average score (12.3)\n",
            "Win/lose count 10.5/1.0. Average score (12.045454545454545)\n",
            "Win/lose count 19.0/2.0. Average score (12.458333333333334)\n",
            "Win/lose count 15.0/5.0. Average score (12.26923076923077)\n",
            "Win/lose count 9.5/6.0. Average score (11.642857142857142)\n",
            "Win/lose count 8.5/5.0. Average score (11.1)\n",
            "Final score: 11.1\n"
          ],
          "name": "stdout"
        },
        {
          "output_type": "execute_result",
          "data": {
            "text/html": [
              "<video alt=\"test\" controls>\n",
              "                <source src=\"data:video/mp4;base64,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\" type=\"video/mp4\" />\n",
              "             </video>"
            ],
            "text/plain": [
              "<IPython.core.display.HTML object>"
            ]
          },
          "metadata": {
            "tags": []
          },
          "execution_count": 89
        }
      ]
    },
    {
      "metadata": {
        "id": "8lnjzGOVV5w3",
        "colab_type": "text"
      },
      "cell_type": "markdown",
      "source": [
        "***\n",
        "***\n",
        "__BONUS question__ Use the expert DQN from the previous question to generate some winning games. Train a model that mimicks its behavior. Compare the performances."
      ]
    },
    {
      "metadata": {
        "id": "uJJcmQHZV5w3",
        "colab_type": "text"
      },
      "cell_type": "markdown",
      "source": [
        ""
      ]
    },
    {
      "metadata": {
        "id": "P32ByaBFV5w4",
        "colab_type": "text"
      },
      "cell_type": "markdown",
      "source": [
        "***"
      ]
    }
  ]
}